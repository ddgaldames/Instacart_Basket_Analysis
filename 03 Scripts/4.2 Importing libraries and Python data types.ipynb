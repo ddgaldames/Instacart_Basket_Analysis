{
 "cells": [
  {
   "cell_type": "markdown",
   "id": "a65b821a",
   "metadata": {},
   "source": [
    "#01. Importing library"
   ]
  },
  {
   "cell_type": "code",
   "execution_count": 38,
   "id": "7bf46f64",
   "metadata": {},
   "outputs": [],
   "source": [
    "#Import Library\n",
    "import pandas as pd\n",
    "import numpy as np\n",
    "import os"
   ]
  },
  {
   "cell_type": "markdown",
   "id": "5f56d978",
   "metadata": {},
   "source": [
    "Data Types"
   ]
  },
  {
   "cell_type": "code",
   "execution_count": 41,
   "id": "2ed87009",
   "metadata": {},
   "outputs": [
    {
     "data": {
      "text/plain": [
       "100"
      ]
     },
     "execution_count": 41,
     "metadata": {},
     "output_type": "execute_result"
    }
   ],
   "source": [
    "a=50\n",
    "b=25\n",
    "c=25\n",
    "d=200\n",
    "a+b+c"
   ]
  },
  {
   "cell_type": "code",
   "execution_count": 42,
   "id": "208cdc5d",
   "metadata": {},
   "outputs": [
    {
     "data": {
      "text/plain": [
       "100"
      ]
     },
     "execution_count": 42,
     "metadata": {},
     "output_type": "execute_result"
    }
   ],
   "source": [
    "d-(a+b+c)"
   ]
  },
  {
   "cell_type": "code",
   "execution_count": 43,
   "id": "7e5d0f72",
   "metadata": {},
   "outputs": [
    {
     "data": {
      "text/plain": [
       "100"
      ]
     },
     "execution_count": 43,
     "metadata": {},
     "output_type": "execute_result"
    }
   ],
   "source": [
    "(2*b) + (2*c)"
   ]
  },
  {
   "cell_type": "code",
   "execution_count": 45,
   "id": "8e4c0898",
   "metadata": {},
   "outputs": [
    {
     "data": {
      "text/plain": [
       "2.3967299379815827"
      ]
     },
     "execution_count": 45,
     "metadata": {},
     "output_type": "execute_result"
    }
   ],
   "source": [
    "x=12.753\n",
    "y=5.321\n",
    "x/y"
   ]
  },
  {
   "cell_type": "code",
   "execution_count": 49,
   "id": "fe1f943f",
   "metadata": {},
   "outputs": [
    {
     "data": {
      "text/plain": [
       "'Hello, my name is David Galdames. I am a data analytics student.'"
      ]
     },
     "execution_count": 49,
     "metadata": {},
     "output_type": "execute_result"
    }
   ],
   "source": [
    "s= 'Hello, my name is '\n",
    "t= 'David Galdames. '\n",
    "u= 'I am a data '\n",
    "v= 'analytics student.'\n",
    "s+t+u+v"
   ]
  },
  {
   "cell_type": "code",
   "execution_count": 50,
   "id": "b964e2dc",
   "metadata": {},
   "outputs": [
    {
     "data": {
      "text/plain": [
       "'transportation'"
      ]
     },
     "execution_count": 50,
     "metadata": {},
     "output_type": "execute_result"
    }
   ],
   "source": [
    "e='trans'\n",
    "f='por'\n",
    "g='ta'\n",
    "h='tion'\n",
    "e+f+g+h"
   ]
  },
  {
   "cell_type": "code",
   "execution_count": 53,
   "id": "8f849305",
   "metadata": {},
   "outputs": [
    {
     "data": {
      "text/plain": [
       "'Cool Cool Cool Cool Cool Cool Cool Cool Cool Cool Cool Cool Cool Cool Cool Cool Cool Cool Cool Cool Cool Cool Cool Cool Cool Cool Cool Cool Cool Cool Cool Cool Cool Cool Cool Cool Cool Cool Cool Cool Cool Cool Cool Cool Cool Cool Cool Cool Cool Cool Cool Cool Cool Cool Cool Cool Cool Cool Cool Cool Cool Cool Cool Cool Cool Cool Cool Cool Cool Cool Cool Cool Cool Cool Cool Cool Cool Cool Cool Cool Cool Cool Cool Cool Cool Cool Cool Cool Cool Cool Cool Cool Cool Cool Cool Cool Cool Cool Cool Cool '"
      ]
     },
     "execution_count": 53,
     "metadata": {},
     "output_type": "execute_result"
    }
   ],
   "source": [
    "i='Cool '\n",
    "i*100"
   ]
  },
  {
   "cell_type": "code",
   "execution_count": null,
   "id": "e85b99c5",
   "metadata": {},
   "outputs": [],
   "source": []
  }
 ],
 "metadata": {
  "kernelspec": {
   "display_name": "Python 3 (ipykernel)",
   "language": "python",
   "name": "python3"
  },
  "language_info": {
   "codemirror_mode": {
    "name": "ipython",
    "version": 3
   },
   "file_extension": ".py",
   "mimetype": "text/x-python",
   "name": "python",
   "nbconvert_exporter": "python",
   "pygments_lexer": "ipython3",
   "version": "3.10.9"
  }
 },
 "nbformat": 4,
 "nbformat_minor": 5
}
