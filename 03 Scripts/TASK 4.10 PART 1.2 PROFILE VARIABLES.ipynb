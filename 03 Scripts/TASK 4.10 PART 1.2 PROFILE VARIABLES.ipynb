{
 "cells": [
  {
   "cell_type": "markdown",
   "id": "b92b4760",
   "metadata": {},
   "source": [
    "# TASK 4.10 PART 1.2"
   ]
  },
  {
   "cell_type": "markdown",
   "id": "c21d73a7",
   "metadata": {},
   "source": [
    "THIS SCRIPT CONTAINS THE FOLLOWING SECTIONS:\n",
    "   \n",
    "    1. Import libraries and files with checks\n",
    "    2. Age based variable\n",
    "    3. Income based variable\n",
    "    4. Number of dependants based variable\n",
    "    5. Department_id based variable\n",
    "    6. Merge df with df_deps \n",
    "    7. Export df_merge so it is ready for visualizations"
   ]
  },
  {
   "cell_type": "markdown",
   "id": "9f7c9447",
   "metadata": {},
   "source": [
    "**1. Import libraries and files with checks**"
   ]
  },
  {
   "cell_type": "code",
   "execution_count": 1,
   "id": "891f8dc9",
   "metadata": {},
   "outputs": [],
   "source": [
    "#import libraries\n",
    "\n",
    "import pandas as pd\n",
    "import numpy as np\n",
    "import os"
   ]
  },
  {
   "cell_type": "code",
   "execution_count": 2,
   "id": "bbcfe0e1",
   "metadata": {},
   "outputs": [],
   "source": [
    "#define path\n",
    "path = r'C:\\Users\\ddgal\\OneDrive\\Desktop\\Career Foundry Tasks\\Data Immersion\\22-03-2023 Instacart Basket Analysis'\n",
    "\n",
    "#import files\n",
    "df = pd.read_pickle(os.path.join(path, '02 Data', 'Prepared Data', 'high_act_cust_ords_prods.pkl'))\n",
    "df_deps = pd.read_csv(os.path.join(path, '02 Data', 'Prepared Data', 'departments_wrangled.csv'), index_col = False)"
   ]
  },
  {
   "cell_type": "code",
   "execution_count": 3,
   "id": "7ef502aa",
   "metadata": {},
   "outputs": [
    {
     "data": {
      "text/plain": [
       "(30964564, 33)"
      ]
     },
     "execution_count": 3,
     "metadata": {},
     "output_type": "execute_result"
    }
   ],
   "source": [
    "#check number of rows and columns of df\n",
    "\n",
    "df.shape"
   ]
  },
  {
   "cell_type": "markdown",
   "id": "7853372f",
   "metadata": {},
   "source": [
    "Shape is good, has the right number of rows and columns"
   ]
  },
  {
   "cell_type": "code",
   "execution_count": 4,
   "id": "2ce29062",
   "metadata": {},
   "outputs": [],
   "source": [
    "#display all columns\n",
    "\n",
    "pd.set_option('display.max_columns', None)"
   ]
  },
  {
   "cell_type": "code",
   "execution_count": 5,
   "id": "b4198380",
   "metadata": {},
   "outputs": [
    {
     "data": {
      "text/html": [
       "<div>\n",
       "<style scoped>\n",
       "    .dataframe tbody tr th:only-of-type {\n",
       "        vertical-align: middle;\n",
       "    }\n",
       "\n",
       "    .dataframe tbody tr th {\n",
       "        vertical-align: top;\n",
       "    }\n",
       "\n",
       "    .dataframe thead th {\n",
       "        text-align: right;\n",
       "    }\n",
       "</style>\n",
       "<table border=\"1\" class=\"dataframe\">\n",
       "  <thead>\n",
       "    <tr style=\"text-align: right;\">\n",
       "      <th></th>\n",
       "      <th>order_id</th>\n",
       "      <th>user_id</th>\n",
       "      <th>order_number</th>\n",
       "      <th>orders_day_of_week</th>\n",
       "      <th>order_hour_of_day</th>\n",
       "      <th>days_since_prior_order</th>\n",
       "      <th>product_id</th>\n",
       "      <th>add_to_cart_order</th>\n",
       "      <th>reordered</th>\n",
       "      <th>product_name</th>\n",
       "      <th>aisle_id</th>\n",
       "      <th>department_id</th>\n",
       "      <th>prices</th>\n",
       "      <th>price_range_loc</th>\n",
       "      <th>busiest_day</th>\n",
       "      <th>busiest_days</th>\n",
       "      <th>busiest_period_of_day</th>\n",
       "      <th>max_order</th>\n",
       "      <th>customer_status</th>\n",
       "      <th>loyalty_flag</th>\n",
       "      <th>avg_user_price</th>\n",
       "      <th>spender_status</th>\n",
       "      <th>med_days_prior_order</th>\n",
       "      <th>frequency_status</th>\n",
       "      <th>gender</th>\n",
       "      <th>state</th>\n",
       "      <th>age</th>\n",
       "      <th>date_joined</th>\n",
       "      <th>num_of_children</th>\n",
       "      <th>fam_status</th>\n",
       "      <th>income</th>\n",
       "      <th>region</th>\n",
       "      <th>customer_activity</th>\n",
       "    </tr>\n",
       "  </thead>\n",
       "  <tbody>\n",
       "    <tr>\n",
       "      <th>0</th>\n",
       "      <td>2539329</td>\n",
       "      <td>1</td>\n",
       "      <td>1</td>\n",
       "      <td>2</td>\n",
       "      <td>8</td>\n",
       "      <td>NaN</td>\n",
       "      <td>196</td>\n",
       "      <td>1</td>\n",
       "      <td>0</td>\n",
       "      <td>Soda</td>\n",
       "      <td>77</td>\n",
       "      <td>7</td>\n",
       "      <td>9.0</td>\n",
       "      <td>Mid-range product</td>\n",
       "      <td>Regularly busy</td>\n",
       "      <td>Regular Days</td>\n",
       "      <td>Average orders</td>\n",
       "      <td>10</td>\n",
       "      <td>New customer</td>\n",
       "      <td>New customer</td>\n",
       "      <td>6.367797</td>\n",
       "      <td>Low spender</td>\n",
       "      <td>20.5</td>\n",
       "      <td>Non-frequent customer</td>\n",
       "      <td>Female</td>\n",
       "      <td>Alabama</td>\n",
       "      <td>31</td>\n",
       "      <td>2/17/2019</td>\n",
       "      <td>3</td>\n",
       "      <td>married</td>\n",
       "      <td>40423</td>\n",
       "      <td>South</td>\n",
       "      <td>high-activity</td>\n",
       "    </tr>\n",
       "    <tr>\n",
       "      <th>1</th>\n",
       "      <td>2398795</td>\n",
       "      <td>1</td>\n",
       "      <td>2</td>\n",
       "      <td>3</td>\n",
       "      <td>7</td>\n",
       "      <td>15.0</td>\n",
       "      <td>196</td>\n",
       "      <td>1</td>\n",
       "      <td>1</td>\n",
       "      <td>Soda</td>\n",
       "      <td>77</td>\n",
       "      <td>7</td>\n",
       "      <td>9.0</td>\n",
       "      <td>Mid-range product</td>\n",
       "      <td>Regularly busy</td>\n",
       "      <td>Slowest days</td>\n",
       "      <td>Average orders</td>\n",
       "      <td>10</td>\n",
       "      <td>New customer</td>\n",
       "      <td>New customer</td>\n",
       "      <td>6.367797</td>\n",
       "      <td>Low spender</td>\n",
       "      <td>20.5</td>\n",
       "      <td>Non-frequent customer</td>\n",
       "      <td>Female</td>\n",
       "      <td>Alabama</td>\n",
       "      <td>31</td>\n",
       "      <td>2/17/2019</td>\n",
       "      <td>3</td>\n",
       "      <td>married</td>\n",
       "      <td>40423</td>\n",
       "      <td>South</td>\n",
       "      <td>high-activity</td>\n",
       "    </tr>\n",
       "    <tr>\n",
       "      <th>2</th>\n",
       "      <td>473747</td>\n",
       "      <td>1</td>\n",
       "      <td>3</td>\n",
       "      <td>3</td>\n",
       "      <td>12</td>\n",
       "      <td>21.0</td>\n",
       "      <td>196</td>\n",
       "      <td>1</td>\n",
       "      <td>1</td>\n",
       "      <td>Soda</td>\n",
       "      <td>77</td>\n",
       "      <td>7</td>\n",
       "      <td>9.0</td>\n",
       "      <td>Mid-range product</td>\n",
       "      <td>Regularly busy</td>\n",
       "      <td>Slowest days</td>\n",
       "      <td>Most orders</td>\n",
       "      <td>10</td>\n",
       "      <td>New customer</td>\n",
       "      <td>New customer</td>\n",
       "      <td>6.367797</td>\n",
       "      <td>Low spender</td>\n",
       "      <td>20.5</td>\n",
       "      <td>Non-frequent customer</td>\n",
       "      <td>Female</td>\n",
       "      <td>Alabama</td>\n",
       "      <td>31</td>\n",
       "      <td>2/17/2019</td>\n",
       "      <td>3</td>\n",
       "      <td>married</td>\n",
       "      <td>40423</td>\n",
       "      <td>South</td>\n",
       "      <td>high-activity</td>\n",
       "    </tr>\n",
       "    <tr>\n",
       "      <th>3</th>\n",
       "      <td>2254736</td>\n",
       "      <td>1</td>\n",
       "      <td>4</td>\n",
       "      <td>4</td>\n",
       "      <td>7</td>\n",
       "      <td>29.0</td>\n",
       "      <td>196</td>\n",
       "      <td>1</td>\n",
       "      <td>1</td>\n",
       "      <td>Soda</td>\n",
       "      <td>77</td>\n",
       "      <td>7</td>\n",
       "      <td>9.0</td>\n",
       "      <td>Mid-range product</td>\n",
       "      <td>Least busy</td>\n",
       "      <td>Slowest days</td>\n",
       "      <td>Average orders</td>\n",
       "      <td>10</td>\n",
       "      <td>New customer</td>\n",
       "      <td>New customer</td>\n",
       "      <td>6.367797</td>\n",
       "      <td>Low spender</td>\n",
       "      <td>20.5</td>\n",
       "      <td>Non-frequent customer</td>\n",
       "      <td>Female</td>\n",
       "      <td>Alabama</td>\n",
       "      <td>31</td>\n",
       "      <td>2/17/2019</td>\n",
       "      <td>3</td>\n",
       "      <td>married</td>\n",
       "      <td>40423</td>\n",
       "      <td>South</td>\n",
       "      <td>high-activity</td>\n",
       "    </tr>\n",
       "    <tr>\n",
       "      <th>4</th>\n",
       "      <td>431534</td>\n",
       "      <td>1</td>\n",
       "      <td>5</td>\n",
       "      <td>4</td>\n",
       "      <td>15</td>\n",
       "      <td>28.0</td>\n",
       "      <td>196</td>\n",
       "      <td>1</td>\n",
       "      <td>1</td>\n",
       "      <td>Soda</td>\n",
       "      <td>77</td>\n",
       "      <td>7</td>\n",
       "      <td>9.0</td>\n",
       "      <td>Mid-range product</td>\n",
       "      <td>Least busy</td>\n",
       "      <td>Slowest days</td>\n",
       "      <td>Most orders</td>\n",
       "      <td>10</td>\n",
       "      <td>New customer</td>\n",
       "      <td>New customer</td>\n",
       "      <td>6.367797</td>\n",
       "      <td>Low spender</td>\n",
       "      <td>20.5</td>\n",
       "      <td>Non-frequent customer</td>\n",
       "      <td>Female</td>\n",
       "      <td>Alabama</td>\n",
       "      <td>31</td>\n",
       "      <td>2/17/2019</td>\n",
       "      <td>3</td>\n",
       "      <td>married</td>\n",
       "      <td>40423</td>\n",
       "      <td>South</td>\n",
       "      <td>high-activity</td>\n",
       "    </tr>\n",
       "  </tbody>\n",
       "</table>\n",
       "</div>"
      ],
      "text/plain": [
       "   order_id  user_id  order_number  orders_day_of_week  order_hour_of_day  \\\n",
       "0   2539329        1             1                   2                  8   \n",
       "1   2398795        1             2                   3                  7   \n",
       "2    473747        1             3                   3                 12   \n",
       "3   2254736        1             4                   4                  7   \n",
       "4    431534        1             5                   4                 15   \n",
       "\n",
       "   days_since_prior_order  product_id  add_to_cart_order  reordered  \\\n",
       "0                     NaN         196                  1          0   \n",
       "1                    15.0         196                  1          1   \n",
       "2                    21.0         196                  1          1   \n",
       "3                    29.0         196                  1          1   \n",
       "4                    28.0         196                  1          1   \n",
       "\n",
       "  product_name  aisle_id  department_id  prices    price_range_loc  \\\n",
       "0         Soda        77              7     9.0  Mid-range product   \n",
       "1         Soda        77              7     9.0  Mid-range product   \n",
       "2         Soda        77              7     9.0  Mid-range product   \n",
       "3         Soda        77              7     9.0  Mid-range product   \n",
       "4         Soda        77              7     9.0  Mid-range product   \n",
       "\n",
       "      busiest_day  busiest_days busiest_period_of_day  max_order  \\\n",
       "0  Regularly busy  Regular Days        Average orders         10   \n",
       "1  Regularly busy  Slowest days        Average orders         10   \n",
       "2  Regularly busy  Slowest days           Most orders         10   \n",
       "3      Least busy  Slowest days        Average orders         10   \n",
       "4      Least busy  Slowest days           Most orders         10   \n",
       "\n",
       "  customer_status  loyalty_flag  avg_user_price spender_status  \\\n",
       "0    New customer  New customer        6.367797    Low spender   \n",
       "1    New customer  New customer        6.367797    Low spender   \n",
       "2    New customer  New customer        6.367797    Low spender   \n",
       "3    New customer  New customer        6.367797    Low spender   \n",
       "4    New customer  New customer        6.367797    Low spender   \n",
       "\n",
       "   med_days_prior_order       frequency_status  gender    state  age  \\\n",
       "0                  20.5  Non-frequent customer  Female  Alabama   31   \n",
       "1                  20.5  Non-frequent customer  Female  Alabama   31   \n",
       "2                  20.5  Non-frequent customer  Female  Alabama   31   \n",
       "3                  20.5  Non-frequent customer  Female  Alabama   31   \n",
       "4                  20.5  Non-frequent customer  Female  Alabama   31   \n",
       "\n",
       "  date_joined  num_of_children fam_status  income region customer_activity  \n",
       "0   2/17/2019                3    married   40423  South     high-activity  \n",
       "1   2/17/2019                3    married   40423  South     high-activity  \n",
       "2   2/17/2019                3    married   40423  South     high-activity  \n",
       "3   2/17/2019                3    married   40423  South     high-activity  \n",
       "4   2/17/2019                3    married   40423  South     high-activity  "
      ]
     },
     "execution_count": 5,
     "metadata": {},
     "output_type": "execute_result"
    }
   ],
   "source": [
    "#check df\n",
    "\n",
    "df.head()"
   ]
  },
  {
   "cell_type": "markdown",
   "id": "e28cfbd3",
   "metadata": {},
   "source": [
    "**2. Age based variable**"
   ]
  },
  {
   "cell_type": "code",
   "execution_count": 6,
   "id": "07c6e21d",
   "metadata": {},
   "outputs": [
    {
     "data": {
      "text/plain": [
       "count    3.096456e+07\n",
       "mean     4.946803e+01\n",
       "std      1.848528e+01\n",
       "min      1.800000e+01\n",
       "25%      3.300000e+01\n",
       "50%      4.900000e+01\n",
       "75%      6.500000e+01\n",
       "max      8.100000e+01\n",
       "Name: age, dtype: float64"
      ]
     },
     "execution_count": 6,
     "metadata": {},
     "output_type": "execute_result"
    }
   ],
   "source": [
    "#check statistical info for age\n",
    "\n",
    "df['age'].describe()"
   ]
  },
  {
   "cell_type": "markdown",
   "id": "a8de93ec",
   "metadata": {},
   "source": [
    "So min age is 18 and max is 31"
   ]
  },
  {
   "cell_type": "markdown",
   "id": "c3e133cf",
   "metadata": {},
   "source": [
    "The age_profile will be classiefied into the following categories:\n",
    "    \n",
    "    Ages 18-39 will be young-adult\n",
    "    Ages 40-64 will be middle-aged\n",
    "    Ages 65+ will be senior"
   ]
  },
  {
   "cell_type": "code",
   "execution_count": 7,
   "id": "0349aa18",
   "metadata": {},
   "outputs": [],
   "source": [
    "#create profile based on age with for loop\n",
    "\n",
    "pr_age = []\n",
    "for age in df['age']:\n",
    "    if age >= 18 and age < 40:\n",
    "        pr_age.append('young-adult')\n",
    "    elif age >= 40 and  age < 65:\n",
    "        pr_age.append('middle-aged')\n",
    "    else:\n",
    "        pr_age.append('senior')"
   ]
  },
  {
   "cell_type": "code",
   "execution_count": 8,
   "id": "84023f4b",
   "metadata": {},
   "outputs": [],
   "source": [
    "#assign new column age_profile to pr_age\n",
    "\n",
    "df['age_profile'] = pr_age"
   ]
  },
  {
   "cell_type": "code",
   "execution_count": 9,
   "id": "36db8c98",
   "metadata": {},
   "outputs": [
    {
     "data": {
      "text/plain": [
       "30964564"
      ]
     },
     "execution_count": 9,
     "metadata": {},
     "output_type": "execute_result"
    }
   ],
   "source": [
    "#check length of age_profile\n",
    "\n",
    "len(df['age_profile'])"
   ]
  },
  {
   "cell_type": "markdown",
   "id": "f1c4fc94",
   "metadata": {},
   "source": [
    "The length of age_profile matches the number of rows"
   ]
  },
  {
   "cell_type": "code",
   "execution_count": 10,
   "id": "e79205dd",
   "metadata": {},
   "outputs": [
    {
     "data": {
      "text/plain": [
       "middle-aged    12103910\n",
       "young-adult    10665110\n",
       "senior          8195544\n",
       "Name: age_profile, dtype: int64"
      ]
     },
     "execution_count": 10,
     "metadata": {},
     "output_type": "execute_result"
    }
   ],
   "source": [
    "#check value counts of age_profile\n",
    "\n",
    "df['age_profile'].value_counts(dropna = False)"
   ]
  },
  {
   "cell_type": "code",
   "execution_count": 11,
   "id": "f7d198fa",
   "metadata": {},
   "outputs": [
    {
     "data": {
      "text/plain": [
       "30964564"
      ]
     },
     "execution_count": 11,
     "metadata": {},
     "output_type": "execute_result"
    }
   ],
   "source": [
    "12103910+10665110+8195544"
   ]
  },
  {
   "cell_type": "markdown",
   "id": "00ea43a7",
   "metadata": {},
   "source": [
    "**3. Income based variable**"
   ]
  },
  {
   "cell_type": "code",
   "execution_count": 12,
   "id": "326e6f8f",
   "metadata": {},
   "outputs": [
    {
     "data": {
      "text/plain": [
       "count    3.096456e+07\n",
       "mean     9.967587e+04\n",
       "std      4.314187e+04\n",
       "min      2.590300e+04\n",
       "25%      6.729200e+04\n",
       "50%      9.676500e+04\n",
       "75%      1.281020e+05\n",
       "max      5.939010e+05\n",
       "Name: income, dtype: float64"
      ]
     },
     "execution_count": 12,
     "metadata": {},
     "output_type": "execute_result"
    }
   ],
   "source": [
    "#check statistical info for income\n",
    "\n",
    "df['income'].describe()"
   ]
  },
  {
   "cell_type": "markdown",
   "id": "4c2a2f63",
   "metadata": {},
   "source": [
    "The min income is 25,903 and the max is 593,901"
   ]
  },
  {
   "cell_type": "markdown",
   "id": "bd49f632",
   "metadata": {},
   "source": [
    "The income_profile will be classified into the following categories:\n",
    "    \n",
    "    Income less than 34999 will be lower-class\n",
    "    Income from 35000 to 54999 will be lower-middle class\n",
    "    Income from 55000 to 106999 will be middle-class\n",
    "    Income from 107000 to 235999 will be upper-middle class\n",
    "    Income above 236000 will be upper-class\n",
    "    "
   ]
  },
  {
   "cell_type": "code",
   "execution_count": 13,
   "id": "11edf52b",
   "metadata": {},
   "outputs": [],
   "source": [
    "#create profile based on income with for loop\n",
    "\n",
    "pr_income = []\n",
    "for salary in df['income']:\n",
    "    if salary < 35000:\n",
    "        pr_income.append('lower-class')\n",
    "    elif salary >= 35000 and salary < 55000:\n",
    "        pr_income.append('lower-middle class')\n",
    "    elif salary >= 55000 and salary < 107000:\n",
    "        pr_income.append('middle-class')\n",
    "    elif salary >= 107000 and salary < 236000:\n",
    "        pr_income.append('upper-middle class')\n",
    "    else:\n",
    "        pr_income.append('upper-class')"
   ]
  },
  {
   "cell_type": "code",
   "execution_count": 14,
   "id": "df968631",
   "metadata": {},
   "outputs": [],
   "source": [
    "#assign new column age_profile to pr_age\n",
    "\n",
    "df['income_profile'] = pr_income"
   ]
  },
  {
   "cell_type": "code",
   "execution_count": 15,
   "id": "02f484da",
   "metadata": {},
   "outputs": [
    {
     "data": {
      "text/plain": [
       "30964564"
      ]
     },
     "execution_count": 15,
     "metadata": {},
     "output_type": "execute_result"
    }
   ],
   "source": [
    "#check length of age_profile\n",
    "\n",
    "len(df['income_profile'])"
   ]
  },
  {
   "cell_type": "markdown",
   "id": "60d59ce3",
   "metadata": {},
   "source": [
    "The length of income_profile matches the number of rows"
   ]
  },
  {
   "cell_type": "code",
   "execution_count": 16,
   "id": "14c244cd",
   "metadata": {},
   "outputs": [
    {
     "data": {
      "text/plain": [
       "middle-class          14207648\n",
       "upper-middle class    12102402\n",
       "lower-middle class     3554463\n",
       "lower-class             897925\n",
       "upper-class             202126\n",
       "Name: income_profile, dtype: int64"
      ]
     },
     "execution_count": 16,
     "metadata": {},
     "output_type": "execute_result"
    }
   ],
   "source": [
    "#check value counts of income_profile\n",
    "\n",
    "df['income_profile'].value_counts(dropna = False)"
   ]
  },
  {
   "cell_type": "code",
   "execution_count": 17,
   "id": "d69b0907",
   "metadata": {},
   "outputs": [
    {
     "data": {
      "text/plain": [
       "30964564"
      ]
     },
     "execution_count": 17,
     "metadata": {},
     "output_type": "execute_result"
    }
   ],
   "source": [
    "14207648+12102402+3554463+897925+202126"
   ]
  },
  {
   "cell_type": "markdown",
   "id": "71f409e0",
   "metadata": {},
   "source": [
    "**4. Number of dependants based variable**"
   ]
  },
  {
   "cell_type": "markdown",
   "id": "8b727e3c",
   "metadata": {},
   "source": [
    "In the data wrangling exercise 4.4.  I renamed number_of_dependents to num_of_children.  I realize now that this was not correct since dependants has not been defined so it is unknown if its only referring to children or spouses as well.  So I will first change the name of the column from num_of_children back to num_of_dependants."
   ]
  },
  {
   "cell_type": "code",
   "execution_count": 18,
   "id": "dfc13e3e",
   "metadata": {},
   "outputs": [],
   "source": [
    "#change name of num_of_children to num_of_dependants\n",
    "\n",
    "df = df.rename(columns={'num_of_children': 'num_of_dependants'})"
   ]
  },
  {
   "cell_type": "code",
   "execution_count": 19,
   "id": "b35c0225",
   "metadata": {},
   "outputs": [
    {
     "data": {
      "text/plain": [
       "count    3.096456e+07\n",
       "mean     1.501819e+00\n",
       "std      1.118896e+00\n",
       "min      0.000000e+00\n",
       "25%      1.000000e+00\n",
       "50%      2.000000e+00\n",
       "75%      3.000000e+00\n",
       "max      3.000000e+00\n",
       "Name: num_of_dependants, dtype: float64"
      ]
     },
     "execution_count": 19,
     "metadata": {},
     "output_type": "execute_result"
    }
   ],
   "source": [
    "#check if name change was successful\n",
    "\n",
    "df['num_of_dependants'].describe()"
   ]
  },
  {
   "cell_type": "markdown",
   "id": "8344a129",
   "metadata": {},
   "source": [
    "Name change was successful.  The min amount of dependants is 0 and the max is 3.  "
   ]
  },
  {
   "cell_type": "markdown",
   "id": "291e8124",
   "metadata": {},
   "source": [
    "The dependant_profile will be classified into the following categories:\n",
    "    \n",
    "    If number of dependants less than one it will single-family\n",
    "    If number of dependants greater than one it will be multi-family"
   ]
  },
  {
   "cell_type": "code",
   "execution_count": 20,
   "id": "7f77f0dd",
   "metadata": {},
   "outputs": [],
   "source": [
    "#create profile based on if somebody has dependant or not\n",
    "\n",
    "pr_dependant = []\n",
    "for dependant in df['num_of_dependants']:\n",
    "    if dependant < 1:\n",
    "        pr_dependant.append('single-family')\n",
    "    else:\n",
    "        pr_dependant.append('multi-family')"
   ]
  },
  {
   "cell_type": "code",
   "execution_count": 21,
   "id": "164c4bbc",
   "metadata": {},
   "outputs": [],
   "source": [
    "#assign new column dependant_profile to pr_dependant\n",
    "\n",
    "df['dependant_profile'] = pr_dependant"
   ]
  },
  {
   "cell_type": "code",
   "execution_count": 22,
   "id": "989cf50e",
   "metadata": {},
   "outputs": [
    {
     "data": {
      "text/plain": [
       "30964564"
      ]
     },
     "execution_count": 22,
     "metadata": {},
     "output_type": "execute_result"
    }
   ],
   "source": [
    "#check length of parent_profile\n",
    "\n",
    "len(df['dependant_profile'])"
   ]
  },
  {
   "cell_type": "markdown",
   "id": "25ecc2a7",
   "metadata": {},
   "source": [
    "The length of dependant_profile matches the number of rows"
   ]
  },
  {
   "cell_type": "code",
   "execution_count": 23,
   "id": "fa39dad5",
   "metadata": {},
   "outputs": [
    {
     "data": {
      "text/plain": [
       "multi-family     23224883\n",
       "single-family     7739681\n",
       "Name: dependant_profile, dtype: int64"
      ]
     },
     "execution_count": 23,
     "metadata": {},
     "output_type": "execute_result"
    }
   ],
   "source": [
    "#check value counts of income_profile\n",
    "\n",
    "df['dependant_profile'].value_counts(dropna = False)"
   ]
  },
  {
   "cell_type": "code",
   "execution_count": 24,
   "id": "bde97609",
   "metadata": {},
   "outputs": [
    {
     "data": {
      "text/plain": [
       "30964564"
      ]
     },
     "execution_count": 24,
     "metadata": {},
     "output_type": "execute_result"
    }
   ],
   "source": [
    "23224883+7739681"
   ]
  },
  {
   "cell_type": "markdown",
   "id": "614f8fe7",
   "metadata": {},
   "source": [
    "The sum of all the frequencies equals the total number of rows."
   ]
  },
  {
   "cell_type": "markdown",
   "id": "3a8aef0a",
   "metadata": {},
   "source": [
    "**5. Department_id based variable**"
   ]
  },
  {
   "cell_type": "code",
   "execution_count": 25,
   "id": "75393964",
   "metadata": {},
   "outputs": [
    {
     "data": {
      "text/html": [
       "<div>\n",
       "<style scoped>\n",
       "    .dataframe tbody tr th:only-of-type {\n",
       "        vertical-align: middle;\n",
       "    }\n",
       "\n",
       "    .dataframe tbody tr th {\n",
       "        vertical-align: top;\n",
       "    }\n",
       "\n",
       "    .dataframe thead th {\n",
       "        text-align: right;\n",
       "    }\n",
       "</style>\n",
       "<table border=\"1\" class=\"dataframe\">\n",
       "  <thead>\n",
       "    <tr style=\"text-align: right;\">\n",
       "      <th></th>\n",
       "      <th>department_id</th>\n",
       "      <th>department</th>\n",
       "    </tr>\n",
       "  </thead>\n",
       "  <tbody>\n",
       "    <tr>\n",
       "      <th>0</th>\n",
       "      <td>1</td>\n",
       "      <td>frozen</td>\n",
       "    </tr>\n",
       "    <tr>\n",
       "      <th>1</th>\n",
       "      <td>2</td>\n",
       "      <td>other</td>\n",
       "    </tr>\n",
       "    <tr>\n",
       "      <th>2</th>\n",
       "      <td>3</td>\n",
       "      <td>bakery</td>\n",
       "    </tr>\n",
       "    <tr>\n",
       "      <th>3</th>\n",
       "      <td>4</td>\n",
       "      <td>produce</td>\n",
       "    </tr>\n",
       "    <tr>\n",
       "      <th>4</th>\n",
       "      <td>5</td>\n",
       "      <td>alcohol</td>\n",
       "    </tr>\n",
       "    <tr>\n",
       "      <th>5</th>\n",
       "      <td>6</td>\n",
       "      <td>international</td>\n",
       "    </tr>\n",
       "    <tr>\n",
       "      <th>6</th>\n",
       "      <td>7</td>\n",
       "      <td>beverages</td>\n",
       "    </tr>\n",
       "    <tr>\n",
       "      <th>7</th>\n",
       "      <td>8</td>\n",
       "      <td>pets</td>\n",
       "    </tr>\n",
       "    <tr>\n",
       "      <th>8</th>\n",
       "      <td>9</td>\n",
       "      <td>dry goods pasta</td>\n",
       "    </tr>\n",
       "    <tr>\n",
       "      <th>9</th>\n",
       "      <td>10</td>\n",
       "      <td>bulk</td>\n",
       "    </tr>\n",
       "    <tr>\n",
       "      <th>10</th>\n",
       "      <td>11</td>\n",
       "      <td>personal care</td>\n",
       "    </tr>\n",
       "    <tr>\n",
       "      <th>11</th>\n",
       "      <td>12</td>\n",
       "      <td>meat seafood</td>\n",
       "    </tr>\n",
       "    <tr>\n",
       "      <th>12</th>\n",
       "      <td>13</td>\n",
       "      <td>pantry</td>\n",
       "    </tr>\n",
       "    <tr>\n",
       "      <th>13</th>\n",
       "      <td>14</td>\n",
       "      <td>breakfast</td>\n",
       "    </tr>\n",
       "    <tr>\n",
       "      <th>14</th>\n",
       "      <td>15</td>\n",
       "      <td>canned goods</td>\n",
       "    </tr>\n",
       "    <tr>\n",
       "      <th>15</th>\n",
       "      <td>16</td>\n",
       "      <td>dairy eggs</td>\n",
       "    </tr>\n",
       "    <tr>\n",
       "      <th>16</th>\n",
       "      <td>17</td>\n",
       "      <td>household</td>\n",
       "    </tr>\n",
       "    <tr>\n",
       "      <th>17</th>\n",
       "      <td>18</td>\n",
       "      <td>babies</td>\n",
       "    </tr>\n",
       "    <tr>\n",
       "      <th>18</th>\n",
       "      <td>19</td>\n",
       "      <td>snacks</td>\n",
       "    </tr>\n",
       "    <tr>\n",
       "      <th>19</th>\n",
       "      <td>20</td>\n",
       "      <td>deli</td>\n",
       "    </tr>\n",
       "    <tr>\n",
       "      <th>20</th>\n",
       "      <td>21</td>\n",
       "      <td>missing</td>\n",
       "    </tr>\n",
       "  </tbody>\n",
       "</table>\n",
       "</div>"
      ],
      "text/plain": [
       "    department_id       department\n",
       "0               1           frozen\n",
       "1               2            other\n",
       "2               3           bakery\n",
       "3               4          produce\n",
       "4               5          alcohol\n",
       "5               6    international\n",
       "6               7        beverages\n",
       "7               8             pets\n",
       "8               9  dry goods pasta\n",
       "9              10             bulk\n",
       "10             11    personal care\n",
       "11             12     meat seafood\n",
       "12             13           pantry\n",
       "13             14        breakfast\n",
       "14             15     canned goods\n",
       "15             16       dairy eggs\n",
       "16             17        household\n",
       "17             18           babies\n",
       "18             19           snacks\n",
       "19             20             deli\n",
       "20             21          missing"
      ]
     },
     "execution_count": 25,
     "metadata": {},
     "output_type": "execute_result"
    }
   ],
   "source": [
    "#see df_deps for which department correspond to which department_id\n",
    "\n",
    "df_deps"
   ]
  },
  {
   "cell_type": "markdown",
   "id": "217e9e27",
   "metadata": {},
   "source": [
    "The department_variable will be classified into the following categories\n",
    "\n",
    "    If department_id is equal to 8 than family with pets\n",
    "    If department_id is equal to 18 than family with baby\n",
    "    If deparment_id is other than the two above no pets or baby"
   ]
  },
  {
   "cell_type": "code",
   "execution_count": 26,
   "id": "21529872",
   "metadata": {},
   "outputs": [],
   "source": [
    "#create profile based on if someone has pets or babies\n",
    "\n",
    "pr_dep = []\n",
    "for dep in df['department_id']:\n",
    "    if dep == 8:\n",
    "        pr_dep.append('has pet')\n",
    "    elif dep == 18:\n",
    "        pr_dep.append('has baby')\n",
    "    else:\n",
    "        pr_dep.append('no pet or baby')"
   ]
  },
  {
   "cell_type": "code",
   "execution_count": 27,
   "id": "04642681",
   "metadata": {},
   "outputs": [],
   "source": [
    "#assign new column department_profile to pr_dep\n",
    "\n",
    "df['department_profile'] = pr_dep"
   ]
  },
  {
   "cell_type": "code",
   "execution_count": 28,
   "id": "24ef5df8",
   "metadata": {},
   "outputs": [
    {
     "data": {
      "text/plain": [
       "30964564"
      ]
     },
     "execution_count": 28,
     "metadata": {},
     "output_type": "execute_result"
    }
   ],
   "source": [
    "#check length of department_profile\n",
    "\n",
    "len(df['department_profile'])"
   ]
  },
  {
   "cell_type": "markdown",
   "id": "02a74358",
   "metadata": {},
   "source": [
    "The length of department_profile matches the number of rows in df"
   ]
  },
  {
   "cell_type": "code",
   "execution_count": 29,
   "id": "28ee079f",
   "metadata": {},
   "outputs": [
    {
     "data": {
      "text/plain": [
       "no pet or baby    30461112\n",
       "has baby            410392\n",
       "has pet              93060\n",
       "Name: department_profile, dtype: int64"
      ]
     },
     "execution_count": 29,
     "metadata": {},
     "output_type": "execute_result"
    }
   ],
   "source": [
    "#check value counts of deparment_profile\n",
    "\n",
    "df['department_profile'].value_counts(dropna = False)"
   ]
  },
  {
   "cell_type": "code",
   "execution_count": 30,
   "id": "89f607ab",
   "metadata": {},
   "outputs": [
    {
     "data": {
      "text/plain": [
       "30964564"
      ]
     },
     "execution_count": 30,
     "metadata": {},
     "output_type": "execute_result"
    }
   ],
   "source": [
    "30461112+410392+93060"
   ]
  },
  {
   "cell_type": "markdown",
   "id": "a7296431",
   "metadata": {},
   "source": [
    "**6. Merge df with df_deps**"
   ]
  },
  {
   "cell_type": "markdown",
   "id": "7f07f45b",
   "metadata": {},
   "source": [
    "I am merging these two data frames so that I can make visualizations based on the name of the department if necessary."
   ]
  },
  {
   "cell_type": "code",
   "execution_count": 31,
   "id": "324963a7",
   "metadata": {},
   "outputs": [],
   "source": [
    "#merge data frames and call it df_merge, I am using a left join so that all the information from df is kept in tact\n",
    "\n",
    "df_merge = pd.merge(df, df_deps, on = 'department_id', how = 'left', indicator = True)"
   ]
  },
  {
   "cell_type": "code",
   "execution_count": 32,
   "id": "6a463894",
   "metadata": {},
   "outputs": [
    {
     "data": {
      "text/plain": [
       "both          30964564\n",
       "left_only            0\n",
       "right_only           0\n",
       "Name: _merge, dtype: int64"
      ]
     },
     "execution_count": 32,
     "metadata": {},
     "output_type": "execute_result"
    }
   ],
   "source": [
    "#check if merge was successful with value counts\n",
    "\n",
    "df_merge['_merge'].value_counts(dropna = False)"
   ]
  },
  {
   "cell_type": "code",
   "execution_count": 33,
   "id": "ab3dc147",
   "metadata": {},
   "outputs": [
    {
     "data": {
      "text/plain": [
       "department_id  department     \n",
       "1              frozen             2121731\n",
       "2              other                34411\n",
       "3              bakery             1120828\n",
       "4              produce            9079273\n",
       "5              alcohol             144627\n",
       "6              international       255991\n",
       "7              beverages          2571901\n",
       "8              pets                 93060\n",
       "9              dry goods pasta     822136\n",
       "10             bulk                 33451\n",
       "11             personal care       424306\n",
       "12             meat seafood        674781\n",
       "13             pantry             1782705\n",
       "14             breakfast           670850\n",
       "15             canned goods       1012074\n",
       "16             dairy eggs         5177182\n",
       "17             household           699857\n",
       "18             babies              410392\n",
       "19             snacks             2766406\n",
       "20             deli               1003834\n",
       "21             missing              64768\n",
       "dtype: int64"
      ]
     },
     "execution_count": 33,
     "metadata": {},
     "output_type": "execute_result"
    }
   ],
   "source": [
    "#check that frequency counts from department_id match with department\n",
    "\n",
    "df_merge[['department_id', 'department']].value_counts(dropna = False).sort_index()"
   ]
  },
  {
   "cell_type": "markdown",
   "id": "3a8ce658",
   "metadata": {},
   "source": [
    "Everything matches perfectly and aligns with information on Out[25]."
   ]
  },
  {
   "cell_type": "code",
   "execution_count": 34,
   "id": "ab6d7b8d",
   "metadata": {},
   "outputs": [],
   "source": [
    "#remove _merge column now\n",
    "\n",
    "df_merge = df_merge.drop(columns = ['_merge'])"
   ]
  },
  {
   "cell_type": "code",
   "execution_count": 35,
   "id": "8fb35c09",
   "metadata": {},
   "outputs": [
    {
     "data": {
      "text/plain": [
       "(30964564, 38)"
      ]
     },
     "execution_count": 35,
     "metadata": {},
     "output_type": "execute_result"
    }
   ],
   "source": [
    "#check shape of df_merge, it should have 33 + 5 = 38 columns (5 are from the profile variables and the merge)\n",
    "\n",
    "df_merge.shape"
   ]
  },
  {
   "cell_type": "code",
   "execution_count": 36,
   "id": "9469c53a",
   "metadata": {},
   "outputs": [
    {
     "data": {
      "text/html": [
       "<div>\n",
       "<style scoped>\n",
       "    .dataframe tbody tr th:only-of-type {\n",
       "        vertical-align: middle;\n",
       "    }\n",
       "\n",
       "    .dataframe tbody tr th {\n",
       "        vertical-align: top;\n",
       "    }\n",
       "\n",
       "    .dataframe thead th {\n",
       "        text-align: right;\n",
       "    }\n",
       "</style>\n",
       "<table border=\"1\" class=\"dataframe\">\n",
       "  <thead>\n",
       "    <tr style=\"text-align: right;\">\n",
       "      <th></th>\n",
       "      <th>order_id</th>\n",
       "      <th>user_id</th>\n",
       "      <th>order_number</th>\n",
       "      <th>orders_day_of_week</th>\n",
       "      <th>order_hour_of_day</th>\n",
       "      <th>days_since_prior_order</th>\n",
       "      <th>product_id</th>\n",
       "      <th>add_to_cart_order</th>\n",
       "      <th>reordered</th>\n",
       "      <th>product_name</th>\n",
       "      <th>aisle_id</th>\n",
       "      <th>department_id</th>\n",
       "      <th>prices</th>\n",
       "      <th>price_range_loc</th>\n",
       "      <th>busiest_day</th>\n",
       "      <th>busiest_days</th>\n",
       "      <th>busiest_period_of_day</th>\n",
       "      <th>max_order</th>\n",
       "      <th>customer_status</th>\n",
       "      <th>loyalty_flag</th>\n",
       "      <th>avg_user_price</th>\n",
       "      <th>spender_status</th>\n",
       "      <th>med_days_prior_order</th>\n",
       "      <th>frequency_status</th>\n",
       "      <th>gender</th>\n",
       "      <th>state</th>\n",
       "      <th>age</th>\n",
       "      <th>date_joined</th>\n",
       "      <th>num_of_dependants</th>\n",
       "      <th>fam_status</th>\n",
       "      <th>income</th>\n",
       "      <th>region</th>\n",
       "      <th>customer_activity</th>\n",
       "      <th>age_profile</th>\n",
       "      <th>income_profile</th>\n",
       "      <th>dependant_profile</th>\n",
       "      <th>department_profile</th>\n",
       "      <th>department</th>\n",
       "    </tr>\n",
       "  </thead>\n",
       "  <tbody>\n",
       "    <tr>\n",
       "      <th>0</th>\n",
       "      <td>2539329</td>\n",
       "      <td>1</td>\n",
       "      <td>1</td>\n",
       "      <td>2</td>\n",
       "      <td>8</td>\n",
       "      <td>NaN</td>\n",
       "      <td>196</td>\n",
       "      <td>1</td>\n",
       "      <td>0</td>\n",
       "      <td>Soda</td>\n",
       "      <td>77</td>\n",
       "      <td>7</td>\n",
       "      <td>9.0</td>\n",
       "      <td>Mid-range product</td>\n",
       "      <td>Regularly busy</td>\n",
       "      <td>Regular Days</td>\n",
       "      <td>Average orders</td>\n",
       "      <td>10</td>\n",
       "      <td>New customer</td>\n",
       "      <td>New customer</td>\n",
       "      <td>6.367797</td>\n",
       "      <td>Low spender</td>\n",
       "      <td>20.5</td>\n",
       "      <td>Non-frequent customer</td>\n",
       "      <td>Female</td>\n",
       "      <td>Alabama</td>\n",
       "      <td>31</td>\n",
       "      <td>2/17/2019</td>\n",
       "      <td>3</td>\n",
       "      <td>married</td>\n",
       "      <td>40423</td>\n",
       "      <td>South</td>\n",
       "      <td>high-activity</td>\n",
       "      <td>young-adult</td>\n",
       "      <td>lower-middle class</td>\n",
       "      <td>multi-family</td>\n",
       "      <td>no pet or baby</td>\n",
       "      <td>beverages</td>\n",
       "    </tr>\n",
       "    <tr>\n",
       "      <th>1</th>\n",
       "      <td>2398795</td>\n",
       "      <td>1</td>\n",
       "      <td>2</td>\n",
       "      <td>3</td>\n",
       "      <td>7</td>\n",
       "      <td>15.0</td>\n",
       "      <td>196</td>\n",
       "      <td>1</td>\n",
       "      <td>1</td>\n",
       "      <td>Soda</td>\n",
       "      <td>77</td>\n",
       "      <td>7</td>\n",
       "      <td>9.0</td>\n",
       "      <td>Mid-range product</td>\n",
       "      <td>Regularly busy</td>\n",
       "      <td>Slowest days</td>\n",
       "      <td>Average orders</td>\n",
       "      <td>10</td>\n",
       "      <td>New customer</td>\n",
       "      <td>New customer</td>\n",
       "      <td>6.367797</td>\n",
       "      <td>Low spender</td>\n",
       "      <td>20.5</td>\n",
       "      <td>Non-frequent customer</td>\n",
       "      <td>Female</td>\n",
       "      <td>Alabama</td>\n",
       "      <td>31</td>\n",
       "      <td>2/17/2019</td>\n",
       "      <td>3</td>\n",
       "      <td>married</td>\n",
       "      <td>40423</td>\n",
       "      <td>South</td>\n",
       "      <td>high-activity</td>\n",
       "      <td>young-adult</td>\n",
       "      <td>lower-middle class</td>\n",
       "      <td>multi-family</td>\n",
       "      <td>no pet or baby</td>\n",
       "      <td>beverages</td>\n",
       "    </tr>\n",
       "    <tr>\n",
       "      <th>2</th>\n",
       "      <td>473747</td>\n",
       "      <td>1</td>\n",
       "      <td>3</td>\n",
       "      <td>3</td>\n",
       "      <td>12</td>\n",
       "      <td>21.0</td>\n",
       "      <td>196</td>\n",
       "      <td>1</td>\n",
       "      <td>1</td>\n",
       "      <td>Soda</td>\n",
       "      <td>77</td>\n",
       "      <td>7</td>\n",
       "      <td>9.0</td>\n",
       "      <td>Mid-range product</td>\n",
       "      <td>Regularly busy</td>\n",
       "      <td>Slowest days</td>\n",
       "      <td>Most orders</td>\n",
       "      <td>10</td>\n",
       "      <td>New customer</td>\n",
       "      <td>New customer</td>\n",
       "      <td>6.367797</td>\n",
       "      <td>Low spender</td>\n",
       "      <td>20.5</td>\n",
       "      <td>Non-frequent customer</td>\n",
       "      <td>Female</td>\n",
       "      <td>Alabama</td>\n",
       "      <td>31</td>\n",
       "      <td>2/17/2019</td>\n",
       "      <td>3</td>\n",
       "      <td>married</td>\n",
       "      <td>40423</td>\n",
       "      <td>South</td>\n",
       "      <td>high-activity</td>\n",
       "      <td>young-adult</td>\n",
       "      <td>lower-middle class</td>\n",
       "      <td>multi-family</td>\n",
       "      <td>no pet or baby</td>\n",
       "      <td>beverages</td>\n",
       "    </tr>\n",
       "    <tr>\n",
       "      <th>3</th>\n",
       "      <td>2254736</td>\n",
       "      <td>1</td>\n",
       "      <td>4</td>\n",
       "      <td>4</td>\n",
       "      <td>7</td>\n",
       "      <td>29.0</td>\n",
       "      <td>196</td>\n",
       "      <td>1</td>\n",
       "      <td>1</td>\n",
       "      <td>Soda</td>\n",
       "      <td>77</td>\n",
       "      <td>7</td>\n",
       "      <td>9.0</td>\n",
       "      <td>Mid-range product</td>\n",
       "      <td>Least busy</td>\n",
       "      <td>Slowest days</td>\n",
       "      <td>Average orders</td>\n",
       "      <td>10</td>\n",
       "      <td>New customer</td>\n",
       "      <td>New customer</td>\n",
       "      <td>6.367797</td>\n",
       "      <td>Low spender</td>\n",
       "      <td>20.5</td>\n",
       "      <td>Non-frequent customer</td>\n",
       "      <td>Female</td>\n",
       "      <td>Alabama</td>\n",
       "      <td>31</td>\n",
       "      <td>2/17/2019</td>\n",
       "      <td>3</td>\n",
       "      <td>married</td>\n",
       "      <td>40423</td>\n",
       "      <td>South</td>\n",
       "      <td>high-activity</td>\n",
       "      <td>young-adult</td>\n",
       "      <td>lower-middle class</td>\n",
       "      <td>multi-family</td>\n",
       "      <td>no pet or baby</td>\n",
       "      <td>beverages</td>\n",
       "    </tr>\n",
       "    <tr>\n",
       "      <th>4</th>\n",
       "      <td>431534</td>\n",
       "      <td>1</td>\n",
       "      <td>5</td>\n",
       "      <td>4</td>\n",
       "      <td>15</td>\n",
       "      <td>28.0</td>\n",
       "      <td>196</td>\n",
       "      <td>1</td>\n",
       "      <td>1</td>\n",
       "      <td>Soda</td>\n",
       "      <td>77</td>\n",
       "      <td>7</td>\n",
       "      <td>9.0</td>\n",
       "      <td>Mid-range product</td>\n",
       "      <td>Least busy</td>\n",
       "      <td>Slowest days</td>\n",
       "      <td>Most orders</td>\n",
       "      <td>10</td>\n",
       "      <td>New customer</td>\n",
       "      <td>New customer</td>\n",
       "      <td>6.367797</td>\n",
       "      <td>Low spender</td>\n",
       "      <td>20.5</td>\n",
       "      <td>Non-frequent customer</td>\n",
       "      <td>Female</td>\n",
       "      <td>Alabama</td>\n",
       "      <td>31</td>\n",
       "      <td>2/17/2019</td>\n",
       "      <td>3</td>\n",
       "      <td>married</td>\n",
       "      <td>40423</td>\n",
       "      <td>South</td>\n",
       "      <td>high-activity</td>\n",
       "      <td>young-adult</td>\n",
       "      <td>lower-middle class</td>\n",
       "      <td>multi-family</td>\n",
       "      <td>no pet or baby</td>\n",
       "      <td>beverages</td>\n",
       "    </tr>\n",
       "  </tbody>\n",
       "</table>\n",
       "</div>"
      ],
      "text/plain": [
       "   order_id  user_id  order_number  orders_day_of_week  order_hour_of_day  \\\n",
       "0   2539329        1             1                   2                  8   \n",
       "1   2398795        1             2                   3                  7   \n",
       "2    473747        1             3                   3                 12   \n",
       "3   2254736        1             4                   4                  7   \n",
       "4    431534        1             5                   4                 15   \n",
       "\n",
       "   days_since_prior_order  product_id  add_to_cart_order  reordered  \\\n",
       "0                     NaN         196                  1          0   \n",
       "1                    15.0         196                  1          1   \n",
       "2                    21.0         196                  1          1   \n",
       "3                    29.0         196                  1          1   \n",
       "4                    28.0         196                  1          1   \n",
       "\n",
       "  product_name  aisle_id  department_id  prices    price_range_loc  \\\n",
       "0         Soda        77              7     9.0  Mid-range product   \n",
       "1         Soda        77              7     9.0  Mid-range product   \n",
       "2         Soda        77              7     9.0  Mid-range product   \n",
       "3         Soda        77              7     9.0  Mid-range product   \n",
       "4         Soda        77              7     9.0  Mid-range product   \n",
       "\n",
       "      busiest_day  busiest_days busiest_period_of_day  max_order  \\\n",
       "0  Regularly busy  Regular Days        Average orders         10   \n",
       "1  Regularly busy  Slowest days        Average orders         10   \n",
       "2  Regularly busy  Slowest days           Most orders         10   \n",
       "3      Least busy  Slowest days        Average orders         10   \n",
       "4      Least busy  Slowest days           Most orders         10   \n",
       "\n",
       "  customer_status  loyalty_flag  avg_user_price spender_status  \\\n",
       "0    New customer  New customer        6.367797    Low spender   \n",
       "1    New customer  New customer        6.367797    Low spender   \n",
       "2    New customer  New customer        6.367797    Low spender   \n",
       "3    New customer  New customer        6.367797    Low spender   \n",
       "4    New customer  New customer        6.367797    Low spender   \n",
       "\n",
       "   med_days_prior_order       frequency_status  gender    state  age  \\\n",
       "0                  20.5  Non-frequent customer  Female  Alabama   31   \n",
       "1                  20.5  Non-frequent customer  Female  Alabama   31   \n",
       "2                  20.5  Non-frequent customer  Female  Alabama   31   \n",
       "3                  20.5  Non-frequent customer  Female  Alabama   31   \n",
       "4                  20.5  Non-frequent customer  Female  Alabama   31   \n",
       "\n",
       "  date_joined  num_of_dependants fam_status  income region customer_activity  \\\n",
       "0   2/17/2019                  3    married   40423  South     high-activity   \n",
       "1   2/17/2019                  3    married   40423  South     high-activity   \n",
       "2   2/17/2019                  3    married   40423  South     high-activity   \n",
       "3   2/17/2019                  3    married   40423  South     high-activity   \n",
       "4   2/17/2019                  3    married   40423  South     high-activity   \n",
       "\n",
       "   age_profile      income_profile dependant_profile department_profile  \\\n",
       "0  young-adult  lower-middle class      multi-family     no pet or baby   \n",
       "1  young-adult  lower-middle class      multi-family     no pet or baby   \n",
       "2  young-adult  lower-middle class      multi-family     no pet or baby   \n",
       "3  young-adult  lower-middle class      multi-family     no pet or baby   \n",
       "4  young-adult  lower-middle class      multi-family     no pet or baby   \n",
       "\n",
       "  department  \n",
       "0  beverages  \n",
       "1  beverages  \n",
       "2  beverages  \n",
       "3  beverages  \n",
       "4  beverages  "
      ]
     },
     "execution_count": 36,
     "metadata": {},
     "output_type": "execute_result"
    }
   ],
   "source": [
    "#final check\n",
    "\n",
    "df_merge.head()"
   ]
  },
  {
   "cell_type": "code",
   "execution_count": 37,
   "id": "4fd72f54",
   "metadata": {},
   "outputs": [],
   "source": [
    "#renaming of columns with flags so it is more clear what they are\n",
    "\n",
    "df_merge = df_merge.rename(columns={'customer_status': 'customer_flag'})\n",
    "df_merge = df_merge.rename(columns={'spender_status': 'spender_flag'})\n",
    "df_merge = df_merge.rename(columns={'frequency_status': 'frequency_flag'})"
   ]
  },
  {
   "cell_type": "code",
   "execution_count": 38,
   "id": "cd916981",
   "metadata": {},
   "outputs": [
    {
     "data": {
      "text/html": [
       "<div>\n",
       "<style scoped>\n",
       "    .dataframe tbody tr th:only-of-type {\n",
       "        vertical-align: middle;\n",
       "    }\n",
       "\n",
       "    .dataframe tbody tr th {\n",
       "        vertical-align: top;\n",
       "    }\n",
       "\n",
       "    .dataframe thead th {\n",
       "        text-align: right;\n",
       "    }\n",
       "</style>\n",
       "<table border=\"1\" class=\"dataframe\">\n",
       "  <thead>\n",
       "    <tr style=\"text-align: right;\">\n",
       "      <th></th>\n",
       "      <th>order_id</th>\n",
       "      <th>user_id</th>\n",
       "      <th>order_number</th>\n",
       "      <th>orders_day_of_week</th>\n",
       "      <th>order_hour_of_day</th>\n",
       "      <th>days_since_prior_order</th>\n",
       "      <th>product_id</th>\n",
       "      <th>add_to_cart_order</th>\n",
       "      <th>reordered</th>\n",
       "      <th>product_name</th>\n",
       "      <th>aisle_id</th>\n",
       "      <th>department_id</th>\n",
       "      <th>prices</th>\n",
       "      <th>price_range_loc</th>\n",
       "      <th>busiest_day</th>\n",
       "      <th>busiest_days</th>\n",
       "      <th>busiest_period_of_day</th>\n",
       "      <th>max_order</th>\n",
       "      <th>customer_flag</th>\n",
       "      <th>loyalty_flag</th>\n",
       "      <th>avg_user_price</th>\n",
       "      <th>spender_flag</th>\n",
       "      <th>med_days_prior_order</th>\n",
       "      <th>frequency_flag</th>\n",
       "      <th>gender</th>\n",
       "      <th>state</th>\n",
       "      <th>age</th>\n",
       "      <th>date_joined</th>\n",
       "      <th>num_of_dependants</th>\n",
       "      <th>fam_status</th>\n",
       "      <th>income</th>\n",
       "      <th>region</th>\n",
       "      <th>customer_activity</th>\n",
       "      <th>age_profile</th>\n",
       "      <th>income_profile</th>\n",
       "      <th>dependant_profile</th>\n",
       "      <th>department_profile</th>\n",
       "      <th>department</th>\n",
       "    </tr>\n",
       "  </thead>\n",
       "  <tbody>\n",
       "    <tr>\n",
       "      <th>0</th>\n",
       "      <td>2539329</td>\n",
       "      <td>1</td>\n",
       "      <td>1</td>\n",
       "      <td>2</td>\n",
       "      <td>8</td>\n",
       "      <td>NaN</td>\n",
       "      <td>196</td>\n",
       "      <td>1</td>\n",
       "      <td>0</td>\n",
       "      <td>Soda</td>\n",
       "      <td>77</td>\n",
       "      <td>7</td>\n",
       "      <td>9.0</td>\n",
       "      <td>Mid-range product</td>\n",
       "      <td>Regularly busy</td>\n",
       "      <td>Regular Days</td>\n",
       "      <td>Average orders</td>\n",
       "      <td>10</td>\n",
       "      <td>New customer</td>\n",
       "      <td>New customer</td>\n",
       "      <td>6.367797</td>\n",
       "      <td>Low spender</td>\n",
       "      <td>20.5</td>\n",
       "      <td>Non-frequent customer</td>\n",
       "      <td>Female</td>\n",
       "      <td>Alabama</td>\n",
       "      <td>31</td>\n",
       "      <td>2/17/2019</td>\n",
       "      <td>3</td>\n",
       "      <td>married</td>\n",
       "      <td>40423</td>\n",
       "      <td>South</td>\n",
       "      <td>high-activity</td>\n",
       "      <td>young-adult</td>\n",
       "      <td>lower-middle class</td>\n",
       "      <td>multi-family</td>\n",
       "      <td>no pet or baby</td>\n",
       "      <td>beverages</td>\n",
       "    </tr>\n",
       "    <tr>\n",
       "      <th>1</th>\n",
       "      <td>2398795</td>\n",
       "      <td>1</td>\n",
       "      <td>2</td>\n",
       "      <td>3</td>\n",
       "      <td>7</td>\n",
       "      <td>15.0</td>\n",
       "      <td>196</td>\n",
       "      <td>1</td>\n",
       "      <td>1</td>\n",
       "      <td>Soda</td>\n",
       "      <td>77</td>\n",
       "      <td>7</td>\n",
       "      <td>9.0</td>\n",
       "      <td>Mid-range product</td>\n",
       "      <td>Regularly busy</td>\n",
       "      <td>Slowest days</td>\n",
       "      <td>Average orders</td>\n",
       "      <td>10</td>\n",
       "      <td>New customer</td>\n",
       "      <td>New customer</td>\n",
       "      <td>6.367797</td>\n",
       "      <td>Low spender</td>\n",
       "      <td>20.5</td>\n",
       "      <td>Non-frequent customer</td>\n",
       "      <td>Female</td>\n",
       "      <td>Alabama</td>\n",
       "      <td>31</td>\n",
       "      <td>2/17/2019</td>\n",
       "      <td>3</td>\n",
       "      <td>married</td>\n",
       "      <td>40423</td>\n",
       "      <td>South</td>\n",
       "      <td>high-activity</td>\n",
       "      <td>young-adult</td>\n",
       "      <td>lower-middle class</td>\n",
       "      <td>multi-family</td>\n",
       "      <td>no pet or baby</td>\n",
       "      <td>beverages</td>\n",
       "    </tr>\n",
       "    <tr>\n",
       "      <th>2</th>\n",
       "      <td>473747</td>\n",
       "      <td>1</td>\n",
       "      <td>3</td>\n",
       "      <td>3</td>\n",
       "      <td>12</td>\n",
       "      <td>21.0</td>\n",
       "      <td>196</td>\n",
       "      <td>1</td>\n",
       "      <td>1</td>\n",
       "      <td>Soda</td>\n",
       "      <td>77</td>\n",
       "      <td>7</td>\n",
       "      <td>9.0</td>\n",
       "      <td>Mid-range product</td>\n",
       "      <td>Regularly busy</td>\n",
       "      <td>Slowest days</td>\n",
       "      <td>Most orders</td>\n",
       "      <td>10</td>\n",
       "      <td>New customer</td>\n",
       "      <td>New customer</td>\n",
       "      <td>6.367797</td>\n",
       "      <td>Low spender</td>\n",
       "      <td>20.5</td>\n",
       "      <td>Non-frequent customer</td>\n",
       "      <td>Female</td>\n",
       "      <td>Alabama</td>\n",
       "      <td>31</td>\n",
       "      <td>2/17/2019</td>\n",
       "      <td>3</td>\n",
       "      <td>married</td>\n",
       "      <td>40423</td>\n",
       "      <td>South</td>\n",
       "      <td>high-activity</td>\n",
       "      <td>young-adult</td>\n",
       "      <td>lower-middle class</td>\n",
       "      <td>multi-family</td>\n",
       "      <td>no pet or baby</td>\n",
       "      <td>beverages</td>\n",
       "    </tr>\n",
       "    <tr>\n",
       "      <th>3</th>\n",
       "      <td>2254736</td>\n",
       "      <td>1</td>\n",
       "      <td>4</td>\n",
       "      <td>4</td>\n",
       "      <td>7</td>\n",
       "      <td>29.0</td>\n",
       "      <td>196</td>\n",
       "      <td>1</td>\n",
       "      <td>1</td>\n",
       "      <td>Soda</td>\n",
       "      <td>77</td>\n",
       "      <td>7</td>\n",
       "      <td>9.0</td>\n",
       "      <td>Mid-range product</td>\n",
       "      <td>Least busy</td>\n",
       "      <td>Slowest days</td>\n",
       "      <td>Average orders</td>\n",
       "      <td>10</td>\n",
       "      <td>New customer</td>\n",
       "      <td>New customer</td>\n",
       "      <td>6.367797</td>\n",
       "      <td>Low spender</td>\n",
       "      <td>20.5</td>\n",
       "      <td>Non-frequent customer</td>\n",
       "      <td>Female</td>\n",
       "      <td>Alabama</td>\n",
       "      <td>31</td>\n",
       "      <td>2/17/2019</td>\n",
       "      <td>3</td>\n",
       "      <td>married</td>\n",
       "      <td>40423</td>\n",
       "      <td>South</td>\n",
       "      <td>high-activity</td>\n",
       "      <td>young-adult</td>\n",
       "      <td>lower-middle class</td>\n",
       "      <td>multi-family</td>\n",
       "      <td>no pet or baby</td>\n",
       "      <td>beverages</td>\n",
       "    </tr>\n",
       "    <tr>\n",
       "      <th>4</th>\n",
       "      <td>431534</td>\n",
       "      <td>1</td>\n",
       "      <td>5</td>\n",
       "      <td>4</td>\n",
       "      <td>15</td>\n",
       "      <td>28.0</td>\n",
       "      <td>196</td>\n",
       "      <td>1</td>\n",
       "      <td>1</td>\n",
       "      <td>Soda</td>\n",
       "      <td>77</td>\n",
       "      <td>7</td>\n",
       "      <td>9.0</td>\n",
       "      <td>Mid-range product</td>\n",
       "      <td>Least busy</td>\n",
       "      <td>Slowest days</td>\n",
       "      <td>Most orders</td>\n",
       "      <td>10</td>\n",
       "      <td>New customer</td>\n",
       "      <td>New customer</td>\n",
       "      <td>6.367797</td>\n",
       "      <td>Low spender</td>\n",
       "      <td>20.5</td>\n",
       "      <td>Non-frequent customer</td>\n",
       "      <td>Female</td>\n",
       "      <td>Alabama</td>\n",
       "      <td>31</td>\n",
       "      <td>2/17/2019</td>\n",
       "      <td>3</td>\n",
       "      <td>married</td>\n",
       "      <td>40423</td>\n",
       "      <td>South</td>\n",
       "      <td>high-activity</td>\n",
       "      <td>young-adult</td>\n",
       "      <td>lower-middle class</td>\n",
       "      <td>multi-family</td>\n",
       "      <td>no pet or baby</td>\n",
       "      <td>beverages</td>\n",
       "    </tr>\n",
       "  </tbody>\n",
       "</table>\n",
       "</div>"
      ],
      "text/plain": [
       "   order_id  user_id  order_number  orders_day_of_week  order_hour_of_day  \\\n",
       "0   2539329        1             1                   2                  8   \n",
       "1   2398795        1             2                   3                  7   \n",
       "2    473747        1             3                   3                 12   \n",
       "3   2254736        1             4                   4                  7   \n",
       "4    431534        1             5                   4                 15   \n",
       "\n",
       "   days_since_prior_order  product_id  add_to_cart_order  reordered  \\\n",
       "0                     NaN         196                  1          0   \n",
       "1                    15.0         196                  1          1   \n",
       "2                    21.0         196                  1          1   \n",
       "3                    29.0         196                  1          1   \n",
       "4                    28.0         196                  1          1   \n",
       "\n",
       "  product_name  aisle_id  department_id  prices    price_range_loc  \\\n",
       "0         Soda        77              7     9.0  Mid-range product   \n",
       "1         Soda        77              7     9.0  Mid-range product   \n",
       "2         Soda        77              7     9.0  Mid-range product   \n",
       "3         Soda        77              7     9.0  Mid-range product   \n",
       "4         Soda        77              7     9.0  Mid-range product   \n",
       "\n",
       "      busiest_day  busiest_days busiest_period_of_day  max_order  \\\n",
       "0  Regularly busy  Regular Days        Average orders         10   \n",
       "1  Regularly busy  Slowest days        Average orders         10   \n",
       "2  Regularly busy  Slowest days           Most orders         10   \n",
       "3      Least busy  Slowest days        Average orders         10   \n",
       "4      Least busy  Slowest days           Most orders         10   \n",
       "\n",
       "  customer_flag  loyalty_flag  avg_user_price spender_flag  \\\n",
       "0  New customer  New customer        6.367797  Low spender   \n",
       "1  New customer  New customer        6.367797  Low spender   \n",
       "2  New customer  New customer        6.367797  Low spender   \n",
       "3  New customer  New customer        6.367797  Low spender   \n",
       "4  New customer  New customer        6.367797  Low spender   \n",
       "\n",
       "   med_days_prior_order         frequency_flag  gender    state  age  \\\n",
       "0                  20.5  Non-frequent customer  Female  Alabama   31   \n",
       "1                  20.5  Non-frequent customer  Female  Alabama   31   \n",
       "2                  20.5  Non-frequent customer  Female  Alabama   31   \n",
       "3                  20.5  Non-frequent customer  Female  Alabama   31   \n",
       "4                  20.5  Non-frequent customer  Female  Alabama   31   \n",
       "\n",
       "  date_joined  num_of_dependants fam_status  income region customer_activity  \\\n",
       "0   2/17/2019                  3    married   40423  South     high-activity   \n",
       "1   2/17/2019                  3    married   40423  South     high-activity   \n",
       "2   2/17/2019                  3    married   40423  South     high-activity   \n",
       "3   2/17/2019                  3    married   40423  South     high-activity   \n",
       "4   2/17/2019                  3    married   40423  South     high-activity   \n",
       "\n",
       "   age_profile      income_profile dependant_profile department_profile  \\\n",
       "0  young-adult  lower-middle class      multi-family     no pet or baby   \n",
       "1  young-adult  lower-middle class      multi-family     no pet or baby   \n",
       "2  young-adult  lower-middle class      multi-family     no pet or baby   \n",
       "3  young-adult  lower-middle class      multi-family     no pet or baby   \n",
       "4  young-adult  lower-middle class      multi-family     no pet or baby   \n",
       "\n",
       "  department  \n",
       "0  beverages  \n",
       "1  beverages  \n",
       "2  beverages  \n",
       "3  beverages  \n",
       "4  beverages  "
      ]
     },
     "execution_count": 38,
     "metadata": {},
     "output_type": "execute_result"
    }
   ],
   "source": [
    "#check rename successfull\n",
    "\n",
    "df_merge.head()"
   ]
  },
  {
   "cell_type": "markdown",
   "id": "43d4488e",
   "metadata": {},
   "source": [
    "Renaming was successful"
   ]
  },
  {
   "cell_type": "markdown",
   "id": "0f83e22f",
   "metadata": {},
   "source": [
    " **7. Export df_merge so it is ready for visualizations**"
   ]
  },
  {
   "cell_type": "code",
   "execution_count": 39,
   "id": "974e4a2a",
   "metadata": {},
   "outputs": [],
   "source": [
    "#export df_merge\n",
    "\n",
    "df_merge.to_pickle(os.path.join(path, '02 Data','Prepared Data', 'cust_ords_prods_dep_merge.pkl'))"
   ]
  },
  {
   "cell_type": "code",
   "execution_count": null,
   "id": "cd851022",
   "metadata": {},
   "outputs": [],
   "source": []
  }
 ],
 "metadata": {
  "kernelspec": {
   "display_name": "Python 3 (ipykernel)",
   "language": "python",
   "name": "python3"
  },
  "language_info": {
   "codemirror_mode": {
    "name": "ipython",
    "version": 3
   },
   "file_extension": ".py",
   "mimetype": "text/x-python",
   "name": "python",
   "nbconvert_exporter": "python",
   "pygments_lexer": "ipython3",
   "version": "3.10.9"
  }
 },
 "nbformat": 4,
 "nbformat_minor": 5
}
