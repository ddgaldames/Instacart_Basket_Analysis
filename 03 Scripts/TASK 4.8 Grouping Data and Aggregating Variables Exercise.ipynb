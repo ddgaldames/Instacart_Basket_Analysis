{
 "cells": [
  {
   "cell_type": "markdown",
   "id": "41b81502",
   "metadata": {},
   "source": [
    "# TASK 4.8 GROUPING DATA AND AGGREGATING VARIABLES QUESTIONS"
   ]
  },
  {
   "cell_type": "markdown",
   "id": "ffc45680",
   "metadata": {},
   "source": [
    "**This script answers the following questions:**\n",
    "\n",
    "**1. Create a new notebook for this task. Be sure to import the relevant libraries, along with your ords_prods_merge dataframe, which should include your newly derived columns from the previous Exercise.**\n",
    "\n",
    "**2. In this Exercise, you learned how to find the aggregated mean of the “order_number” column grouped by “department_id” for a subset of your dataframe. Now, repeat this process for the entire dataframe.**\n",
    "\n",
    "**3. Analyze the result. How do the results for the entire dataframe differ from those of the subset? Include your comments in a markdown cell below the executed code.**\n",
    "\n",
    "**4. Follow the instructions in the Exercise for creating a loyalty flag for existing customers using the transform() and loc() functions.**\n",
    "\n",
    "**5. The marketing team at Instacart wants to know whether there’s a difference between the spending habits of the three types of customers you identified. Use the loyalty flag you created and check the basic statistics of the product prices for each loyalty category (Loyal Customer, Regular Customer, and New Customer). What you’re trying to determine is whether the prices of products purchased by loyal customers differ from those purchased by regular or new customers.**\n",
    "\n",
    "**6. The team now wants to target different types of spenders in their marketing campaigns. This can be achieved by looking at the prices of the items people are buying. Create a spending flag for each user based on the average price across all their orders using the following criteria:\n",
    "If the mean of the prices of products purchased by a user is lower than 10, then flag them as a “Low spender.”\n",
    "If the mean of the prices of products purchased by a user is higher than or equal to 10, then flag them as a “High spender.”**\n",
    "\n",
    "**7. In order to send relevant notifications to users within the app (for instance, asking users if they want to buy the same item again), the Instacart team wants you to determine frequent versus non-frequent customers. Create an order frequency flag that marks the regularity of a user’s ordering behavior according to the median in the “days_since_prior_order” column. The criteria for the flag should be as follows:\n",
    "If the median of “days_since_prior_order” is higher than 20, then the customer should be labeled a “Non-frequent customer.”\n",
    "If the median is higher than 10 and lower than or equal to 20, then the customer should be labeled a “Regular customer.”\n",
    "If the median is lower than or equal to 10, then the customer should be labeled a “Frequent customer.”**\n",
    "\n",
    "**8. Ensure your notebook is clean and structured and that your code is well commented.**\n",
    "\n",
    "**9. Export your dataframe as a pickle file and store it correctly in your “Prepared Data” folder.**"
   ]
  },
  {
   "cell_type": "code",
   "execution_count": 1,
   "id": "49e598e6",
   "metadata": {},
   "outputs": [],
   "source": [
    "#import libraries\n",
    "import pandas as pd\n",
    "import numpy as np\n",
    "import os"
   ]
  },
  {
   "cell_type": "code",
   "execution_count": 2,
   "id": "09c761cc",
   "metadata": {},
   "outputs": [],
   "source": [
    "#define path\n",
    "path = r'C:\\Users\\ddgal\\OneDrive\\Desktop\\Career Foundry Tasks\\Data Immersion\\22-03-2023 Instacart Basket Analysis'"
   ]
  },
  {
   "cell_type": "markdown",
   "id": "da1aba6e",
   "metadata": {},
   "source": [
    "**1. Create a new notebook for this task. Be sure to import the relevant libraries, along with your ords_prods_merge dataframe, which should include your newly derived columns from the previous Exercise.**"
   ]
  },
  {
   "cell_type": "code",
   "execution_count": 3,
   "id": "1e5b0cd9",
   "metadata": {},
   "outputs": [],
   "source": [
    "#import ords_prods_merge data set\n",
    "ords_prods_merge = pd.read_pickle(os.path.join(path, '02 Data', 'Prepared Data', 'orders_products_merged2.pkl'))"
   ]
  },
  {
   "cell_type": "code",
   "execution_count": 4,
   "id": "76e27fc6",
   "metadata": {},
   "outputs": [
    {
     "data": {
      "text/plain": [
       "(32404859, 18)"
      ]
     },
     "execution_count": 4,
     "metadata": {},
     "output_type": "execute_result"
    }
   ],
   "source": [
    "#check shape of imported data set\n",
    "ords_prods_merge.shape"
   ]
  },
  {
   "cell_type": "code",
   "execution_count": 5,
   "id": "d7804436",
   "metadata": {},
   "outputs": [
    {
     "data": {
      "text/html": [
       "<div>\n",
       "<style scoped>\n",
       "    .dataframe tbody tr th:only-of-type {\n",
       "        vertical-align: middle;\n",
       "    }\n",
       "\n",
       "    .dataframe tbody tr th {\n",
       "        vertical-align: top;\n",
       "    }\n",
       "\n",
       "    .dataframe thead th {\n",
       "        text-align: right;\n",
       "    }\n",
       "</style>\n",
       "<table border=\"1\" class=\"dataframe\">\n",
       "  <thead>\n",
       "    <tr style=\"text-align: right;\">\n",
       "      <th></th>\n",
       "      <th>order_id</th>\n",
       "      <th>user_id</th>\n",
       "      <th>order_number</th>\n",
       "      <th>orders_day_of_week</th>\n",
       "      <th>order_hour_of_day</th>\n",
       "      <th>days_since_prior_order</th>\n",
       "      <th>product_id</th>\n",
       "      <th>add_to_cart_order</th>\n",
       "      <th>reordered</th>\n",
       "      <th>product_name</th>\n",
       "      <th>aisle_id</th>\n",
       "      <th>department_id</th>\n",
       "      <th>prices</th>\n",
       "      <th>_merge</th>\n",
       "      <th>price_range_loc</th>\n",
       "      <th>busiest_day</th>\n",
       "      <th>busiest_days</th>\n",
       "      <th>busiest_period_of_day</th>\n",
       "    </tr>\n",
       "  </thead>\n",
       "  <tbody>\n",
       "    <tr>\n",
       "      <th>0</th>\n",
       "      <td>2539329</td>\n",
       "      <td>1</td>\n",
       "      <td>1</td>\n",
       "      <td>2</td>\n",
       "      <td>8</td>\n",
       "      <td>NaN</td>\n",
       "      <td>196</td>\n",
       "      <td>1</td>\n",
       "      <td>0</td>\n",
       "      <td>Soda</td>\n",
       "      <td>77</td>\n",
       "      <td>7</td>\n",
       "      <td>9.0</td>\n",
       "      <td>both</td>\n",
       "      <td>Mid-range product</td>\n",
       "      <td>Regularly busy</td>\n",
       "      <td>Regular Days</td>\n",
       "      <td>Average orders</td>\n",
       "    </tr>\n",
       "    <tr>\n",
       "      <th>1</th>\n",
       "      <td>2398795</td>\n",
       "      <td>1</td>\n",
       "      <td>2</td>\n",
       "      <td>3</td>\n",
       "      <td>7</td>\n",
       "      <td>15.0</td>\n",
       "      <td>196</td>\n",
       "      <td>1</td>\n",
       "      <td>1</td>\n",
       "      <td>Soda</td>\n",
       "      <td>77</td>\n",
       "      <td>7</td>\n",
       "      <td>9.0</td>\n",
       "      <td>both</td>\n",
       "      <td>Mid-range product</td>\n",
       "      <td>Regularly busy</td>\n",
       "      <td>Slowest days</td>\n",
       "      <td>Average orders</td>\n",
       "    </tr>\n",
       "    <tr>\n",
       "      <th>2</th>\n",
       "      <td>473747</td>\n",
       "      <td>1</td>\n",
       "      <td>3</td>\n",
       "      <td>3</td>\n",
       "      <td>12</td>\n",
       "      <td>21.0</td>\n",
       "      <td>196</td>\n",
       "      <td>1</td>\n",
       "      <td>1</td>\n",
       "      <td>Soda</td>\n",
       "      <td>77</td>\n",
       "      <td>7</td>\n",
       "      <td>9.0</td>\n",
       "      <td>both</td>\n",
       "      <td>Mid-range product</td>\n",
       "      <td>Regularly busy</td>\n",
       "      <td>Slowest days</td>\n",
       "      <td>Most orders</td>\n",
       "    </tr>\n",
       "    <tr>\n",
       "      <th>3</th>\n",
       "      <td>2254736</td>\n",
       "      <td>1</td>\n",
       "      <td>4</td>\n",
       "      <td>4</td>\n",
       "      <td>7</td>\n",
       "      <td>29.0</td>\n",
       "      <td>196</td>\n",
       "      <td>1</td>\n",
       "      <td>1</td>\n",
       "      <td>Soda</td>\n",
       "      <td>77</td>\n",
       "      <td>7</td>\n",
       "      <td>9.0</td>\n",
       "      <td>both</td>\n",
       "      <td>Mid-range product</td>\n",
       "      <td>Least busy</td>\n",
       "      <td>Slowest days</td>\n",
       "      <td>Average orders</td>\n",
       "    </tr>\n",
       "    <tr>\n",
       "      <th>4</th>\n",
       "      <td>431534</td>\n",
       "      <td>1</td>\n",
       "      <td>5</td>\n",
       "      <td>4</td>\n",
       "      <td>15</td>\n",
       "      <td>28.0</td>\n",
       "      <td>196</td>\n",
       "      <td>1</td>\n",
       "      <td>1</td>\n",
       "      <td>Soda</td>\n",
       "      <td>77</td>\n",
       "      <td>7</td>\n",
       "      <td>9.0</td>\n",
       "      <td>both</td>\n",
       "      <td>Mid-range product</td>\n",
       "      <td>Least busy</td>\n",
       "      <td>Slowest days</td>\n",
       "      <td>Most orders</td>\n",
       "    </tr>\n",
       "  </tbody>\n",
       "</table>\n",
       "</div>"
      ],
      "text/plain": [
       "   order_id  user_id  order_number  orders_day_of_week  order_hour_of_day  \\\n",
       "0   2539329        1             1                   2                  8   \n",
       "1   2398795        1             2                   3                  7   \n",
       "2    473747        1             3                   3                 12   \n",
       "3   2254736        1             4                   4                  7   \n",
       "4    431534        1             5                   4                 15   \n",
       "\n",
       "   days_since_prior_order  product_id  add_to_cart_order  reordered  \\\n",
       "0                     NaN         196                  1          0   \n",
       "1                    15.0         196                  1          1   \n",
       "2                    21.0         196                  1          1   \n",
       "3                    29.0         196                  1          1   \n",
       "4                    28.0         196                  1          1   \n",
       "\n",
       "  product_name  aisle_id  department_id  prices _merge    price_range_loc  \\\n",
       "0         Soda        77              7     9.0   both  Mid-range product   \n",
       "1         Soda        77              7     9.0   both  Mid-range product   \n",
       "2         Soda        77              7     9.0   both  Mid-range product   \n",
       "3         Soda        77              7     9.0   both  Mid-range product   \n",
       "4         Soda        77              7     9.0   both  Mid-range product   \n",
       "\n",
       "      busiest_day  busiest_days busiest_period_of_day  \n",
       "0  Regularly busy  Regular Days        Average orders  \n",
       "1  Regularly busy  Slowest days        Average orders  \n",
       "2  Regularly busy  Slowest days           Most orders  \n",
       "3      Least busy  Slowest days        Average orders  \n",
       "4      Least busy  Slowest days           Most orders  "
      ]
     },
     "execution_count": 5,
     "metadata": {},
     "output_type": "execute_result"
    }
   ],
   "source": [
    "#check columns\n",
    "ords_prods_merge.head()"
   ]
  },
  {
   "cell_type": "markdown",
   "id": "42e30870",
   "metadata": {},
   "source": [
    "**2. In this Exercise, you learned how to find the aggregated mean of the “order_number” column grouped by “department_id” for a subset of your dataframe. Now, repeat this process for the entire dataframe.**"
   ]
  },
  {
   "cell_type": "code",
   "execution_count": 6,
   "id": "a4b354d0",
   "metadata": {},
   "outputs": [
    {
     "data": {
      "text/html": [
       "<div>\n",
       "<style scoped>\n",
       "    .dataframe tbody tr th:only-of-type {\n",
       "        vertical-align: middle;\n",
       "    }\n",
       "\n",
       "    .dataframe tbody tr th {\n",
       "        vertical-align: top;\n",
       "    }\n",
       "\n",
       "    .dataframe thead tr th {\n",
       "        text-align: left;\n",
       "    }\n",
       "\n",
       "    .dataframe thead tr:last-of-type th {\n",
       "        text-align: right;\n",
       "    }\n",
       "</style>\n",
       "<table border=\"1\" class=\"dataframe\">\n",
       "  <thead>\n",
       "    <tr>\n",
       "      <th></th>\n",
       "      <th>order_number</th>\n",
       "    </tr>\n",
       "    <tr>\n",
       "      <th></th>\n",
       "      <th>mean</th>\n",
       "    </tr>\n",
       "    <tr>\n",
       "      <th>department_id</th>\n",
       "      <th></th>\n",
       "    </tr>\n",
       "  </thead>\n",
       "  <tbody>\n",
       "    <tr>\n",
       "      <th>1</th>\n",
       "      <td>15.457838</td>\n",
       "    </tr>\n",
       "    <tr>\n",
       "      <th>2</th>\n",
       "      <td>17.277920</td>\n",
       "    </tr>\n",
       "    <tr>\n",
       "      <th>3</th>\n",
       "      <td>17.170395</td>\n",
       "    </tr>\n",
       "    <tr>\n",
       "      <th>4</th>\n",
       "      <td>17.811403</td>\n",
       "    </tr>\n",
       "    <tr>\n",
       "      <th>5</th>\n",
       "      <td>15.215751</td>\n",
       "    </tr>\n",
       "    <tr>\n",
       "      <th>6</th>\n",
       "      <td>16.439806</td>\n",
       "    </tr>\n",
       "    <tr>\n",
       "      <th>7</th>\n",
       "      <td>17.225802</td>\n",
       "    </tr>\n",
       "    <tr>\n",
       "      <th>8</th>\n",
       "      <td>15.340650</td>\n",
       "    </tr>\n",
       "    <tr>\n",
       "      <th>9</th>\n",
       "      <td>15.895474</td>\n",
       "    </tr>\n",
       "    <tr>\n",
       "      <th>10</th>\n",
       "      <td>20.197148</td>\n",
       "    </tr>\n",
       "    <tr>\n",
       "      <th>11</th>\n",
       "      <td>16.170638</td>\n",
       "    </tr>\n",
       "    <tr>\n",
       "      <th>12</th>\n",
       "      <td>15.887671</td>\n",
       "    </tr>\n",
       "    <tr>\n",
       "      <th>13</th>\n",
       "      <td>16.583536</td>\n",
       "    </tr>\n",
       "    <tr>\n",
       "      <th>14</th>\n",
       "      <td>16.773669</td>\n",
       "    </tr>\n",
       "    <tr>\n",
       "      <th>15</th>\n",
       "      <td>16.165037</td>\n",
       "    </tr>\n",
       "    <tr>\n",
       "      <th>16</th>\n",
       "      <td>17.665606</td>\n",
       "    </tr>\n",
       "    <tr>\n",
       "      <th>17</th>\n",
       "      <td>15.694469</td>\n",
       "    </tr>\n",
       "    <tr>\n",
       "      <th>18</th>\n",
       "      <td>19.310397</td>\n",
       "    </tr>\n",
       "    <tr>\n",
       "      <th>19</th>\n",
       "      <td>17.177343</td>\n",
       "    </tr>\n",
       "    <tr>\n",
       "      <th>20</th>\n",
       "      <td>16.473447</td>\n",
       "    </tr>\n",
       "    <tr>\n",
       "      <th>21</th>\n",
       "      <td>22.902379</td>\n",
       "    </tr>\n",
       "  </tbody>\n",
       "</table>\n",
       "</div>"
      ],
      "text/plain": [
       "              order_number\n",
       "                      mean\n",
       "department_id             \n",
       "1                15.457838\n",
       "2                17.277920\n",
       "3                17.170395\n",
       "4                17.811403\n",
       "5                15.215751\n",
       "6                16.439806\n",
       "7                17.225802\n",
       "8                15.340650\n",
       "9                15.895474\n",
       "10               20.197148\n",
       "11               16.170638\n",
       "12               15.887671\n",
       "13               16.583536\n",
       "14               16.773669\n",
       "15               16.165037\n",
       "16               17.665606\n",
       "17               15.694469\n",
       "18               19.310397\n",
       "19               17.177343\n",
       "20               16.473447\n",
       "21               22.902379"
      ]
     },
     "execution_count": 6,
     "metadata": {},
     "output_type": "execute_result"
    }
   ],
   "source": [
    "#group by 'department_id' and display mean order_numbers\n",
    "ords_prods_merge.groupby('department_id').agg({'order_number': ['mean']})"
   ]
  },
  {
   "cell_type": "markdown",
   "id": "7a72c91c",
   "metadata": {},
   "source": [
    "**3. Analyze the result. How do the results for the entire dataframe differ from those of the subset? Include your comments in a markdown cell below the executed code**"
   ]
  },
  {
   "cell_type": "markdown",
   "id": "65c36322",
   "metadata": {},
   "source": [
    "One obvious difference is the results from the subset does not include the mean 'order_id' for all the 'department_id's.  The results from the subset are misleading making you think department_id values 4 and 17 have the the most average orders and  least average orders, respectively.  These correspond to produce(4) and household(17).  In reality it is  department_id values 21 and 5 that have the most average orders and the least, respectively.  These correspond to missing(21) and alcohol(5).   "
   ]
  },
  {
   "cell_type": "markdown",
   "id": "3820f0da",
   "metadata": {},
   "source": [
    "**4. Follow the instructions in the Exercise for creating a loyalty flag for existing customers using the transform() and loc() functions.**"
   ]
  },
  {
   "cell_type": "markdown",
   "id": "a850b915",
   "metadata": {},
   "source": [
    "For this question I will create the column 'loyalty_flag; from the demo exercise which indicates if a customer is loyal, regualar or new based on their max 'order_number'.  I will in addition add another column 'customer_status' which will flag any loyal or regular customer from the 'loyalty_flag' column as Existing customer.  The new customers for both columns will be the same.  "
   ]
  },
  {
   "cell_type": "code",
   "execution_count": 7,
   "id": "c6fc18f9",
   "metadata": {},
   "outputs": [],
   "source": [
    "#create new column 'max_order' that displays each users highest 'order_number'\n",
    "ords_prods_merge['max_order'] = ords_prods_merge.groupby(['user_id'])['order_number'].transform(np.max)"
   ]
  },
  {
   "cell_type": "code",
   "execution_count": 8,
   "id": "56cc11e1",
   "metadata": {},
   "outputs": [],
   "source": [
    "#creates a flag in 'customer_status' that determines someone with less than 10 max order_number as a new customer \n",
    "ords_prods_merge.loc[ords_prods_merge['max_order'] <= 10, 'customer_status'] = 'New customer'"
   ]
  },
  {
   "cell_type": "code",
   "execution_count": 9,
   "id": "7b48726e",
   "metadata": {},
   "outputs": [],
   "source": [
    "#create a flag in 'customer_status' that determines someone with more than 10 max 'order_number' as a existing customer\n",
    "ords_prods_merge.loc[ords_prods_merge['max_order'] > 10, 'customer_status'] = 'Existing customer'"
   ]
  },
  {
   "cell_type": "code",
   "execution_count": 10,
   "id": "8ec07f64",
   "metadata": {},
   "outputs": [],
   "source": [
    "#create loyalty flag for someone with more than 40 'max_order' as a loyal customer\n",
    "ords_prods_merge.loc[ords_prods_merge['max_order'] > 40, 'loyalty_flag'] = 'Loyal customer'"
   ]
  },
  {
   "cell_type": "code",
   "execution_count": 11,
   "id": "51f989d5",
   "metadata": {},
   "outputs": [],
   "source": [
    "#creates loyalty flag for someone with greater than 10 but less than 40 'max_order' as a Regular customer\n",
    "ords_prods_merge.loc[(ords_prods_merge['max_order'] <= 40) & (ords_prods_merge['max_order'] > 10), 'loyalty_flag'] = 'Regular customer'"
   ]
  },
  {
   "cell_type": "code",
   "execution_count": 12,
   "id": "570cbd17",
   "metadata": {},
   "outputs": [],
   "source": [
    "#creates loyalty flag for someone with less than 10 'max_order' as a New customer\n",
    "ords_prods_merge.loc[ords_prods_merge['max_order'] <= 10, 'loyalty_flag'] = 'New customer'"
   ]
  },
  {
   "cell_type": "code",
   "execution_count": 13,
   "id": "d2de28fa",
   "metadata": {},
   "outputs": [
    {
     "data": {
      "text/plain": [
       "loyalty_flag      customer_status  \n",
       "Regular customer  Existing customer    15876776\n",
       "Loyal customer    Existing customer    10284093\n",
       "New customer      New customer          6243990\n",
       "dtype: int64"
      ]
     },
     "execution_count": 13,
     "metadata": {},
     "output_type": "execute_result"
    }
   ],
   "source": [
    "#check value counts for columns 'customer status' and 'loyalty_flag'\n",
    "ords_prods_merge[['loyalty_flag', 'customer_status']].value_counts(dropna = False)"
   ]
  },
  {
   "cell_type": "code",
   "execution_count": 14,
   "id": "a719ea11",
   "metadata": {},
   "outputs": [
    {
     "data": {
      "text/html": [
       "<div>\n",
       "<style scoped>\n",
       "    .dataframe tbody tr th:only-of-type {\n",
       "        vertical-align: middle;\n",
       "    }\n",
       "\n",
       "    .dataframe tbody tr th {\n",
       "        vertical-align: top;\n",
       "    }\n",
       "\n",
       "    .dataframe thead th {\n",
       "        text-align: right;\n",
       "    }\n",
       "</style>\n",
       "<table border=\"1\" class=\"dataframe\">\n",
       "  <thead>\n",
       "    <tr style=\"text-align: right;\">\n",
       "      <th></th>\n",
       "      <th>user_id</th>\n",
       "      <th>max_order</th>\n",
       "      <th>loyalty_flag</th>\n",
       "      <th>customer_status</th>\n",
       "    </tr>\n",
       "  </thead>\n",
       "  <tbody>\n",
       "    <tr>\n",
       "      <th>0</th>\n",
       "      <td>1</td>\n",
       "      <td>10</td>\n",
       "      <td>New customer</td>\n",
       "      <td>New customer</td>\n",
       "    </tr>\n",
       "    <tr>\n",
       "      <th>1</th>\n",
       "      <td>1</td>\n",
       "      <td>10</td>\n",
       "      <td>New customer</td>\n",
       "      <td>New customer</td>\n",
       "    </tr>\n",
       "    <tr>\n",
       "      <th>2</th>\n",
       "      <td>1</td>\n",
       "      <td>10</td>\n",
       "      <td>New customer</td>\n",
       "      <td>New customer</td>\n",
       "    </tr>\n",
       "    <tr>\n",
       "      <th>3</th>\n",
       "      <td>1</td>\n",
       "      <td>10</td>\n",
       "      <td>New customer</td>\n",
       "      <td>New customer</td>\n",
       "    </tr>\n",
       "    <tr>\n",
       "      <th>4</th>\n",
       "      <td>1</td>\n",
       "      <td>10</td>\n",
       "      <td>New customer</td>\n",
       "      <td>New customer</td>\n",
       "    </tr>\n",
       "    <tr>\n",
       "      <th>...</th>\n",
       "      <td>...</td>\n",
       "      <td>...</td>\n",
       "      <td>...</td>\n",
       "      <td>...</td>\n",
       "    </tr>\n",
       "    <tr>\n",
       "      <th>95</th>\n",
       "      <td>360</td>\n",
       "      <td>3</td>\n",
       "      <td>New customer</td>\n",
       "      <td>New customer</td>\n",
       "    </tr>\n",
       "    <tr>\n",
       "      <th>96</th>\n",
       "      <td>377</td>\n",
       "      <td>3</td>\n",
       "      <td>New customer</td>\n",
       "      <td>New customer</td>\n",
       "    </tr>\n",
       "    <tr>\n",
       "      <th>97</th>\n",
       "      <td>387</td>\n",
       "      <td>8</td>\n",
       "      <td>New customer</td>\n",
       "      <td>New customer</td>\n",
       "    </tr>\n",
       "    <tr>\n",
       "      <th>98</th>\n",
       "      <td>420</td>\n",
       "      <td>22</td>\n",
       "      <td>Regular customer</td>\n",
       "      <td>Existing customer</td>\n",
       "    </tr>\n",
       "    <tr>\n",
       "      <th>99</th>\n",
       "      <td>420</td>\n",
       "      <td>22</td>\n",
       "      <td>Regular customer</td>\n",
       "      <td>Existing customer</td>\n",
       "    </tr>\n",
       "  </tbody>\n",
       "</table>\n",
       "<p>100 rows × 4 columns</p>\n",
       "</div>"
      ],
      "text/plain": [
       "    user_id  max_order      loyalty_flag    customer_status\n",
       "0         1         10      New customer       New customer\n",
       "1         1         10      New customer       New customer\n",
       "2         1         10      New customer       New customer\n",
       "3         1         10      New customer       New customer\n",
       "4         1         10      New customer       New customer\n",
       "..      ...        ...               ...                ...\n",
       "95      360          3      New customer       New customer\n",
       "96      377          3      New customer       New customer\n",
       "97      387          8      New customer       New customer\n",
       "98      420         22  Regular customer  Existing customer\n",
       "99      420         22  Regular customer  Existing customer\n",
       "\n",
       "[100 rows x 4 columns]"
      ]
     },
     "execution_count": 14,
     "metadata": {},
     "output_type": "execute_result"
    }
   ],
   "source": [
    "#check new columns are correct\n",
    "ords_prods_merge.head(100)[['user_id', 'max_order', 'loyalty_flag', 'customer_status']]"
   ]
  },
  {
   "cell_type": "markdown",
   "id": "c67f1e79",
   "metadata": {},
   "source": [
    "As can be seen from line Out[13], the frequency counts match perfectly, and if you add them together, you get the total number of rows in the data set.  Also, from line Out[13] Regular and loyal customers are displayed as existing. \n",
    "Additionally from line Out[14], everything matches as well: 'max_order' less than and equal to 10 are flagged as New customer in both new columns and 'max_order' more than 10 and less than 40 are flagged as Regular and Existing customers in both columns."
   ]
  },
  {
   "cell_type": "markdown",
   "id": "f5e8b57c",
   "metadata": {},
   "source": [
    "**5. The marketing team at Instacart wants to know whether there’s a difference between the spending habits of the three types of customers you identified. Use the loyalty flag you created and check the basic statistics of the product prices for each loyalty category (Loyal Customer, Regular Customer, and New Customer). What you’re trying to determine is whether the prices of products purchased by loyal customers differ from those purchased by regular or new customers.**"
   ]
  },
  {
   "cell_type": "code",
   "execution_count": 15,
   "id": "5ebb1362",
   "metadata": {},
   "outputs": [
    {
     "data": {
      "text/html": [
       "<div>\n",
       "<style scoped>\n",
       "    .dataframe tbody tr th:only-of-type {\n",
       "        vertical-align: middle;\n",
       "    }\n",
       "\n",
       "    .dataframe tbody tr th {\n",
       "        vertical-align: top;\n",
       "    }\n",
       "\n",
       "    .dataframe thead tr th {\n",
       "        text-align: left;\n",
       "    }\n",
       "\n",
       "    .dataframe thead tr:last-of-type th {\n",
       "        text-align: right;\n",
       "    }\n",
       "</style>\n",
       "<table border=\"1\" class=\"dataframe\">\n",
       "  <thead>\n",
       "    <tr>\n",
       "      <th></th>\n",
       "      <th colspan=\"3\" halign=\"left\">prices</th>\n",
       "    </tr>\n",
       "    <tr>\n",
       "      <th></th>\n",
       "      <th>mean</th>\n",
       "      <th>min</th>\n",
       "      <th>max</th>\n",
       "    </tr>\n",
       "    <tr>\n",
       "      <th>loyalty_flag</th>\n",
       "      <th></th>\n",
       "      <th></th>\n",
       "      <th></th>\n",
       "    </tr>\n",
       "  </thead>\n",
       "  <tbody>\n",
       "    <tr>\n",
       "      <th>Loyal customer</th>\n",
       "      <td>10.386336</td>\n",
       "      <td>1.0</td>\n",
       "      <td>99999.0</td>\n",
       "    </tr>\n",
       "    <tr>\n",
       "      <th>New customer</th>\n",
       "      <td>13.294670</td>\n",
       "      <td>1.0</td>\n",
       "      <td>99999.0</td>\n",
       "    </tr>\n",
       "    <tr>\n",
       "      <th>Regular customer</th>\n",
       "      <td>12.495717</td>\n",
       "      <td>1.0</td>\n",
       "      <td>99999.0</td>\n",
       "    </tr>\n",
       "  </tbody>\n",
       "</table>\n",
       "</div>"
      ],
      "text/plain": [
       "                     prices              \n",
       "                       mean  min      max\n",
       "loyalty_flag                             \n",
       "Loyal customer    10.386336  1.0  99999.0\n",
       "New customer      13.294670  1.0  99999.0\n",
       "Regular customer  12.495717  1.0  99999.0"
      ]
     },
     "execution_count": 15,
     "metadata": {},
     "output_type": "execute_result"
    }
   ],
   "source": [
    "#show basic statistics of 'loyalty_flag' displaying basis statistics of 'prices'\n",
    "ords_prods_merge.groupby('loyalty_flag').agg({'prices': ['mean', 'min', 'max']})"
   ]
  },
  {
   "cell_type": "markdown",
   "id": "d73c6035",
   "metadata": {},
   "source": [
    "The loyalty_flag with the highest average price spent is New customer, Regular customer, and Loyal customer, respectively.  One would assume the Loyal customers would buy the higher priced items on average.  However, it is the New customer that go for the higher priced item on average.  "
   ]
  },
  {
   "cell_type": "markdown",
   "id": "d50fd16b",
   "metadata": {},
   "source": [
    "**6. The team now wants to target different types of spenders in their marketing campaigns. This can be achieved by looking at the prices of the items people are buying. Create a spending flag for each user based on the average price across all their orders using the following criteria: If the mean of the prices of products purchased by a user is lower than 10, then flag them as a “Low spender.” If the mean of the prices of products purchased by a user is higher than or equal to 10, then flag them as a “High spender.”**"
   ]
  },
  {
   "cell_type": "code",
   "execution_count": 16,
   "id": "c1c9ad25",
   "metadata": {},
   "outputs": [],
   "source": [
    "#create 'avg_user_price' that displays what the average user has spent\n",
    "ords_prods_merge['avg_user_price'] = ords_prods_merge.groupby(['user_id'])['prices'].transform(np.mean)"
   ]
  },
  {
   "cell_type": "code",
   "execution_count": 17,
   "id": "10bef86a",
   "metadata": {},
   "outputs": [],
   "source": [
    "#creates a flag in 'spender_status' that determines someone with less than 10 'avg_user_price' as a Low spender \n",
    "ords_prods_merge.loc[ords_prods_merge['avg_user_price'] < 10, 'spender_status'] = 'Low spender'"
   ]
  },
  {
   "cell_type": "code",
   "execution_count": 18,
   "id": "4cfecca4",
   "metadata": {},
   "outputs": [],
   "source": [
    "#creates a flag in 'spender_status' that determines someone with higher or equal to 19 'avg_user_price' as a High spender\n",
    "ords_prods_merge.loc[ords_prods_merge['avg_user_price'] >= 10, 'spender_status'] = 'High spender'"
   ]
  },
  {
   "cell_type": "code",
   "execution_count": 19,
   "id": "3674ab43",
   "metadata": {},
   "outputs": [
    {
     "data": {
      "text/plain": [
       "Low spender     31770614\n",
       "High spender      634245\n",
       "Name: spender_status, dtype: int64"
      ]
     },
     "execution_count": 19,
     "metadata": {},
     "output_type": "execute_result"
    }
   ],
   "source": [
    "#check frequency of 'spender_status'\n",
    "ords_prods_merge['spender_status'].value_counts(dropna = False)"
   ]
  },
  {
   "cell_type": "markdown",
   "id": "cb5c9b03",
   "metadata": {},
   "source": [
    "The frequency counts match and if you add them together you get the total number of rows in the data set."
   ]
  },
  {
   "cell_type": "code",
   "execution_count": 20,
   "id": "65edfd94",
   "metadata": {},
   "outputs": [
    {
     "data": {
      "text/html": [
       "<div>\n",
       "<style scoped>\n",
       "    .dataframe tbody tr th:only-of-type {\n",
       "        vertical-align: middle;\n",
       "    }\n",
       "\n",
       "    .dataframe tbody tr th {\n",
       "        vertical-align: top;\n",
       "    }\n",
       "\n",
       "    .dataframe thead th {\n",
       "        text-align: right;\n",
       "    }\n",
       "</style>\n",
       "<table border=\"1\" class=\"dataframe\">\n",
       "  <thead>\n",
       "    <tr style=\"text-align: right;\">\n",
       "      <th></th>\n",
       "      <th>user_id</th>\n",
       "      <th>avg_user_price</th>\n",
       "      <th>spender_status</th>\n",
       "    </tr>\n",
       "  </thead>\n",
       "  <tbody>\n",
       "    <tr>\n",
       "      <th>0</th>\n",
       "      <td>1</td>\n",
       "      <td>6.367797</td>\n",
       "      <td>Low spender</td>\n",
       "    </tr>\n",
       "    <tr>\n",
       "      <th>1</th>\n",
       "      <td>1</td>\n",
       "      <td>6.367797</td>\n",
       "      <td>Low spender</td>\n",
       "    </tr>\n",
       "    <tr>\n",
       "      <th>2</th>\n",
       "      <td>1</td>\n",
       "      <td>6.367797</td>\n",
       "      <td>Low spender</td>\n",
       "    </tr>\n",
       "    <tr>\n",
       "      <th>3</th>\n",
       "      <td>1</td>\n",
       "      <td>6.367797</td>\n",
       "      <td>Low spender</td>\n",
       "    </tr>\n",
       "    <tr>\n",
       "      <th>4</th>\n",
       "      <td>1</td>\n",
       "      <td>6.367797</td>\n",
       "      <td>Low spender</td>\n",
       "    </tr>\n",
       "    <tr>\n",
       "      <th>...</th>\n",
       "      <td>...</td>\n",
       "      <td>...</td>\n",
       "      <td>...</td>\n",
       "    </tr>\n",
       "    <tr>\n",
       "      <th>95</th>\n",
       "      <td>360</td>\n",
       "      <td>10.006250</td>\n",
       "      <td>High spender</td>\n",
       "    </tr>\n",
       "    <tr>\n",
       "      <th>96</th>\n",
       "      <td>377</td>\n",
       "      <td>8.496552</td>\n",
       "      <td>Low spender</td>\n",
       "    </tr>\n",
       "    <tr>\n",
       "      <th>97</th>\n",
       "      <td>387</td>\n",
       "      <td>7.396610</td>\n",
       "      <td>Low spender</td>\n",
       "    </tr>\n",
       "    <tr>\n",
       "      <th>98</th>\n",
       "      <td>420</td>\n",
       "      <td>7.387805</td>\n",
       "      <td>Low spender</td>\n",
       "    </tr>\n",
       "    <tr>\n",
       "      <th>99</th>\n",
       "      <td>420</td>\n",
       "      <td>7.387805</td>\n",
       "      <td>Low spender</td>\n",
       "    </tr>\n",
       "  </tbody>\n",
       "</table>\n",
       "<p>100 rows × 3 columns</p>\n",
       "</div>"
      ],
      "text/plain": [
       "    user_id  avg_user_price spender_status\n",
       "0         1        6.367797    Low spender\n",
       "1         1        6.367797    Low spender\n",
       "2         1        6.367797    Low spender\n",
       "3         1        6.367797    Low spender\n",
       "4         1        6.367797    Low spender\n",
       "..      ...             ...            ...\n",
       "95      360       10.006250   High spender\n",
       "96      377        8.496552    Low spender\n",
       "97      387        7.396610    Low spender\n",
       "98      420        7.387805    Low spender\n",
       "99      420        7.387805    Low spender\n",
       "\n",
       "[100 rows x 3 columns]"
      ]
     },
     "execution_count": 20,
     "metadata": {},
     "output_type": "execute_result"
    }
   ],
   "source": [
    "#check if 'spender_status' is correct via table\n",
    "ords_prods_merge.head(100)[['user_id', 'avg_user_price', 'spender_status']]"
   ]
  },
  {
   "cell_type": "markdown",
   "id": "6e556dfe",
   "metadata": {},
   "source": [
    "The column flag 'spender_status' has been implented successfully as can be seen from line Out[20].  The 'spender_status' is flagged as Low spender for avg_user_price of less than 10 and Higher spender for greater or equal to 10."
   ]
  },
  {
   "cell_type": "markdown",
   "id": "83a601c2",
   "metadata": {},
   "source": [
    "**7. In order to send relevant notifications to users within the app (for instance, asking users if they want to buy the same item again), the Instacart team wants you to determine frequent versus non-frequent customers. Create an order frequency flag that marks the regularity of a user’s ordering behavior according to the median in the “days_since_prior_order” column. The criteria for the flag should be as follows: If the median of “days_since_prior_order” is higher than 20, then the customer should be labeled a “Non-frequent customer.” If the median is higher than 10 and lower than or equal to 20, then the customer should be labeled a “Regular customer.” If the median is lower than or equal to 10, then the customer should be labeled a “Frequent customer.”**"
   ]
  },
  {
   "cell_type": "code",
   "execution_count": 21,
   "id": "ab0f1270",
   "metadata": {},
   "outputs": [],
   "source": [
    "#creates column 'med_days_prior_order' which is based on a users median 'days_since_prior_order\n",
    "ords_prods_merge['med_days_prior_order'] = ords_prods_merge.groupby(['user_id'])['days_since_prior_order'].transform(np.median)"
   ]
  },
  {
   "cell_type": "code",
   "execution_count": 22,
   "id": "407473a7",
   "metadata": {},
   "outputs": [],
   "source": [
    "#creates a flag in 'frequency_status' that determines someone with less than 10 'med_days_prior_order' as a Non-frequent customer\n",
    "ords_prods_merge.loc[ords_prods_merge['med_days_prior_order'] > 20, 'frequency_status'] = 'Non-frequent customer'"
   ]
  },
  {
   "cell_type": "code",
   "execution_count": 23,
   "id": "ca52f424",
   "metadata": {},
   "outputs": [],
   "source": [
    "#creates a flag in 'frequency_status' that determines someone with higher than 10 but less or equal to 20 'med_days_prior_order' as a Regular customer\n",
    "ords_prods_merge.loc[(ords_prods_merge['med_days_prior_order'] > 10) & (ords_prods_merge['med_days_prior_order'] <= 20), 'frequency_status'] = 'Regular customer'"
   ]
  },
  {
   "cell_type": "code",
   "execution_count": 24,
   "id": "abb53deb",
   "metadata": {},
   "outputs": [],
   "source": [
    "#creates a flag in 'frequency_status' that determines someone with less than or equal to  10 'med_days_prior_order' as a Frequent customer\n",
    "ords_prods_merge.loc[ords_prods_merge['med_days_prior_order'] <= 10, 'frequency_status'] = 'Frequent customer'"
   ]
  },
  {
   "cell_type": "code",
   "execution_count": 25,
   "id": "3a457ce0",
   "metadata": {},
   "outputs": [
    {
     "data": {
      "text/plain": [
       "Frequent customer        21559853\n",
       "Regular customer          7208564\n",
       "Non-frequent customer     3636437\n",
       "NaN                             5\n",
       "Name: frequency_status, dtype: int64"
      ]
     },
     "execution_count": 25,
     "metadata": {},
     "output_type": "execute_result"
    }
   ],
   "source": [
    "#check frequency counts of 'frequency_status'\n",
    "ords_prods_merge['frequency_status'].value_counts(dropna = False)"
   ]
  },
  {
   "cell_type": "markdown",
   "id": "856e51c6",
   "metadata": {},
   "source": [
    "If you add the all the frequency counts together, you get the total number of rows in the data set."
   ]
  },
  {
   "cell_type": "code",
   "execution_count": 26,
   "id": "64b65d49",
   "metadata": {},
   "outputs": [
    {
     "data": {
      "text/html": [
       "<div>\n",
       "<style scoped>\n",
       "    .dataframe tbody tr th:only-of-type {\n",
       "        vertical-align: middle;\n",
       "    }\n",
       "\n",
       "    .dataframe tbody tr th {\n",
       "        vertical-align: top;\n",
       "    }\n",
       "\n",
       "    .dataframe thead th {\n",
       "        text-align: right;\n",
       "    }\n",
       "</style>\n",
       "<table border=\"1\" class=\"dataframe\">\n",
       "  <thead>\n",
       "    <tr style=\"text-align: right;\">\n",
       "      <th></th>\n",
       "      <th>user_id</th>\n",
       "      <th>med_days_prior_order</th>\n",
       "      <th>frequency_status</th>\n",
       "    </tr>\n",
       "  </thead>\n",
       "  <tbody>\n",
       "    <tr>\n",
       "      <th>0</th>\n",
       "      <td>1</td>\n",
       "      <td>20.5</td>\n",
       "      <td>Non-frequent customer</td>\n",
       "    </tr>\n",
       "    <tr>\n",
       "      <th>1</th>\n",
       "      <td>1</td>\n",
       "      <td>20.5</td>\n",
       "      <td>Non-frequent customer</td>\n",
       "    </tr>\n",
       "    <tr>\n",
       "      <th>2</th>\n",
       "      <td>1</td>\n",
       "      <td>20.5</td>\n",
       "      <td>Non-frequent customer</td>\n",
       "    </tr>\n",
       "    <tr>\n",
       "      <th>3</th>\n",
       "      <td>1</td>\n",
       "      <td>20.5</td>\n",
       "      <td>Non-frequent customer</td>\n",
       "    </tr>\n",
       "    <tr>\n",
       "      <th>4</th>\n",
       "      <td>1</td>\n",
       "      <td>20.5</td>\n",
       "      <td>Non-frequent customer</td>\n",
       "    </tr>\n",
       "    <tr>\n",
       "      <th>...</th>\n",
       "      <td>...</td>\n",
       "      <td>...</td>\n",
       "      <td>...</td>\n",
       "    </tr>\n",
       "    <tr>\n",
       "      <th>95</th>\n",
       "      <td>360</td>\n",
       "      <td>4.0</td>\n",
       "      <td>Frequent customer</td>\n",
       "    </tr>\n",
       "    <tr>\n",
       "      <th>96</th>\n",
       "      <td>377</td>\n",
       "      <td>16.5</td>\n",
       "      <td>Regular customer</td>\n",
       "    </tr>\n",
       "    <tr>\n",
       "      <th>97</th>\n",
       "      <td>387</td>\n",
       "      <td>8.0</td>\n",
       "      <td>Frequent customer</td>\n",
       "    </tr>\n",
       "    <tr>\n",
       "      <th>98</th>\n",
       "      <td>420</td>\n",
       "      <td>7.0</td>\n",
       "      <td>Frequent customer</td>\n",
       "    </tr>\n",
       "    <tr>\n",
       "      <th>99</th>\n",
       "      <td>420</td>\n",
       "      <td>7.0</td>\n",
       "      <td>Frequent customer</td>\n",
       "    </tr>\n",
       "  </tbody>\n",
       "</table>\n",
       "<p>100 rows × 3 columns</p>\n",
       "</div>"
      ],
      "text/plain": [
       "    user_id  med_days_prior_order       frequency_status\n",
       "0         1                  20.5  Non-frequent customer\n",
       "1         1                  20.5  Non-frequent customer\n",
       "2         1                  20.5  Non-frequent customer\n",
       "3         1                  20.5  Non-frequent customer\n",
       "4         1                  20.5  Non-frequent customer\n",
       "..      ...                   ...                    ...\n",
       "95      360                   4.0      Frequent customer\n",
       "96      377                  16.5       Regular customer\n",
       "97      387                   8.0      Frequent customer\n",
       "98      420                   7.0      Frequent customer\n",
       "99      420                   7.0      Frequent customer\n",
       "\n",
       "[100 rows x 3 columns]"
      ]
     },
     "execution_count": 26,
     "metadata": {},
     "output_type": "execute_result"
    }
   ],
   "source": [
    "#check if 'frequnecy_status' is correct via table\n",
    "ords_prods_merge.head(100)[['user_id', 'med_days_prior_order', 'frequency_status']]"
   ]
  },
  {
   "cell_type": "markdown",
   "id": "d0c3fd84",
   "metadata": {},
   "source": [
    "As can be seen from line Out[26], the 'frequency_status' column has been implemented successfully; all the 'med_days_prior_order' values greater than 20 are labelled Non-Frequent customer, between 10 and equal to 20 is Regular customer, and less and equal to 10 are Frequent customers."
   ]
  },
  {
   "cell_type": "markdown",
   "id": "5ff6890d",
   "metadata": {},
   "source": [
    "**8. Ensure your notebook is clean and structured and that your code is well commented.**"
   ]
  },
  {
   "cell_type": "markdown",
   "id": "5b22d158",
   "metadata": {},
   "source": [
    "This is done"
   ]
  },
  {
   "cell_type": "markdown",
   "id": "44037565",
   "metadata": {},
   "source": [
    "**9. Export your dataframe as a pickle file and store it correctly in your “Prepared Data” folder.**"
   ]
  },
  {
   "cell_type": "code",
   "execution_count": 27,
   "id": "6a354eb1",
   "metadata": {},
   "outputs": [],
   "source": [
    "#export ords_prods_merge with new columns as PKL\n",
    "ords_prods_merge.to_pickle(os.path.join(path,'02 Data','Prepared Data','ords_prods_merge_agg.pkl'))"
   ]
  }
 ],
 "metadata": {
  "kernelspec": {
   "display_name": "Python 3 (ipykernel)",
   "language": "python",
   "name": "python3"
  },
  "language_info": {
   "codemirror_mode": {
    "name": "ipython",
    "version": 3
   },
   "file_extension": ".py",
   "mimetype": "text/x-python",
   "name": "python",
   "nbconvert_exporter": "python",
   "pygments_lexer": "ipython3",
   "version": "3.10.9"
  }
 },
 "nbformat": 4,
 "nbformat_minor": 5
}
