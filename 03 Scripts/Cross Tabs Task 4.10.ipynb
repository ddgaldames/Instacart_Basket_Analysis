{
 "cells": [
  {
   "cell_type": "code",
   "execution_count": 1,
   "id": "1438a7c5",
   "metadata": {},
   "outputs": [],
   "source": [
    "#importing libraries\n",
    "import pandas as pd\n",
    "import numpy as np\n",
    "import os"
   ]
  },
  {
   "cell_type": "code",
   "execution_count": 2,
   "id": "cf5de40f",
   "metadata": {},
   "outputs": [],
   "source": [
    "#define path\n",
    "\n",
    "path = r'C:\\Users\\ddgal\\OneDrive\\Desktop\\Career Foundry Tasks\\Data Immersion\\22-03-2023 Instacart Basket Analysis'"
   ]
  },
  {
   "cell_type": "code",
   "execution_count": 3,
   "id": "ebadeb66",
   "metadata": {},
   "outputs": [],
   "source": [
    "#import file\n",
    "\n",
    "df = pd.read_pickle(os.path.join(path, '02 Data', 'Prepared Data', 'cust_ords_prods_merge.pkl'))"
   ]
  },
  {
   "cell_type": "code",
   "execution_count": 5,
   "id": "b11b3377",
   "metadata": {},
   "outputs": [],
   "source": [
    "#cross tab\n",
    "\n",
    "crosstab = pd.crosstab(df['days_since_prior_order'], df['order_number'], dropna = False)"
   ]
  },
  {
   "cell_type": "code",
   "execution_count": 6,
   "id": "7253d4f7",
   "metadata": {},
   "outputs": [],
   "source": [
    "#copy to clipboard\n",
    "\n",
    "crosstab.to_clipboard()"
   ]
  },
  {
   "cell_type": "code",
   "execution_count": null,
   "id": "c0ea98f1",
   "metadata": {},
   "outputs": [],
   "source": []
  }
 ],
 "metadata": {
  "kernelspec": {
   "display_name": "Python 3 (ipykernel)",
   "language": "python",
   "name": "python3"
  },
  "language_info": {
   "codemirror_mode": {
    "name": "ipython",
    "version": 3
   },
   "file_extension": ".py",
   "mimetype": "text/x-python",
   "name": "python",
   "nbconvert_exporter": "python",
   "pygments_lexer": "ipython3",
   "version": "3.10.9"
  }
 },
 "nbformat": 4,
 "nbformat_minor": 5
}
